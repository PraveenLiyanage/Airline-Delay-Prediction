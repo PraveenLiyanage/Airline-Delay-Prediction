{
 "cells": [
  {
   "cell_type": "markdown",
   "metadata": {},
   "source": [
    "## StartUp ML Challenge: On-time arrival data for Airlines\n",
    "    by MITHU EMILINE JAMES"
   ]
  },
  {
   "cell_type": "markdown",
   "metadata": {},
   "source": [
    "### Task: \n",
    "Build a binary classification model for predicting arrival delays > 15minutes without using departure delay as an input feature."
   ]
  },
  {
   "cell_type": "markdown",
   "metadata": {},
   "source": [
    "### Dataset: \n",
    "US Dept. of Transportation on-time performance data for non-stop domestic flights\n",
    "    - Link: https://transtats.bts.gov/DL_SelectFields.asp?Table_ID=236&DB_Short_Name=On-Time\n",
    "    - Data range: [Geography = All of America], [Period = Jan-Apr 2017, May-Jul 2016 and Nov-Dec 2016]"
   ]
  },
  {
   "cell_type": "markdown",
   "metadata": {},
   "source": [
    "### Approach: \n",
    "    1) Load data\n",
    "    2) Wrangle data: Check for class imbalances and handle it by sampling from the dataset\n",
    "    3) Wrangle data: Check for sparse columns to remove them\n",
    "    4) Wrangle data: Check for columns with a few missing values to impute with zero, mean or median\n",
    "    5) Wrangle data: Encode categorical values to numerical values\n",
    "    6) Exploratory analyss: Infer distribution of data using histograms\n",
    "    7) Exploratory analyss: Use measures of central tendency and IQR to understand data at various positions\n",
    "    8) Variable interdependence: Infer multicollinearity of data through correlation matrix\n",
    "    9) Feature selection: Remove redundant variables (i.e. columns that refer to the same thing e.g. ID)\n",
    "    10) Feature engineering: Remove highly collinear variables (i.e. correlation > 0.8)\n",
    "    11) Feature engineering: Reduce data dimension to the variables that most explain variation in target variable\n",
    "    12) Modeling building: Random forest is chosen for machine learning modeling\n",
    "    13) Model comparison: Random forest modeling with original raw data (PART 2) and PCA transformed data (PART 3)\n",
    "    14) Machine learning process:\n",
    "        (a) Train/test data: Split data for training and testing\n",
    "        (b) Model creation: Create models in a grid search for a combination of parameters\n",
    "        (c) Model selection: Use 10-fold cross validation to evaluate model performance and select the best one\n",
    "        (c) Final Model training: Use parameters of the best model from above to train on entire train set\n",
    "        (d) Final Model evaluation: Use 10-fold cross validation for average error on 10 folds of training data\n",
    "        (e) Final Model performance evaluation: Use confusion matrix, Precision, Recall, ROC to evaluate performance"
   ]
  },
  {
   "cell_type": "markdown",
   "metadata": {},
   "source": [
    "## PART 1"
   ]
  },
  {
   "cell_type": "markdown",
   "metadata": {},
   "source": [
    "### Environment set up"
   ]
  },
  {
   "cell_type": "code",
   "execution_count": 2,
   "metadata": {},
   "outputs": [
    {
     "name": "stdout",
     "output_type": "stream",
     "text": [
      "Requirement already satisfied: numpy in ./env/lib/python3.11/site-packages (1.26.2)\n",
      "Requirement already satisfied: pandas in ./env/lib/python3.11/site-packages (2.1.4)\n",
      "Requirement already satisfied: tabulate in ./env/lib/python3.11/site-packages (0.9.0)\n",
      "Requirement already satisfied: matplotlib in ./env/lib/python3.11/site-packages (3.8.2)\n",
      "Requirement already satisfied: scikit-learn in ./env/lib/python3.11/site-packages (1.3.2)\n",
      "Requirement already satisfied: imbalanced-learn in ./env/lib/python3.11/site-packages (0.11.0)\n",
      "Requirement already satisfied: jupyter in ./env/lib/python3.11/site-packages (1.0.0)\n",
      "Requirement already satisfied: seaborn in ./env/lib/python3.11/site-packages (0.13.1)\n",
      "Requirement already satisfied: python-dateutil>=2.8.2 in ./env/lib/python3.11/site-packages (from pandas) (2.8.2)\n",
      "Requirement already satisfied: pytz>=2020.1 in ./env/lib/python3.11/site-packages (from pandas) (2023.3.post1)\n",
      "Requirement already satisfied: tzdata>=2022.1 in ./env/lib/python3.11/site-packages (from pandas) (2023.4)\n",
      "Requirement already satisfied: contourpy>=1.0.1 in ./env/lib/python3.11/site-packages (from matplotlib) (1.2.0)\n",
      "Requirement already satisfied: cycler>=0.10 in ./env/lib/python3.11/site-packages (from matplotlib) (0.12.1)\n",
      "Requirement already satisfied: fonttools>=4.22.0 in ./env/lib/python3.11/site-packages (from matplotlib) (4.47.0)\n",
      "Requirement already satisfied: kiwisolver>=1.3.1 in ./env/lib/python3.11/site-packages (from matplotlib) (1.4.5)\n",
      "Requirement already satisfied: packaging>=20.0 in ./env/lib/python3.11/site-packages (from matplotlib) (23.2)\n",
      "Requirement already satisfied: pillow>=8 in ./env/lib/python3.11/site-packages (from matplotlib) (10.1.0)\n",
      "Requirement already satisfied: pyparsing>=2.3.1 in ./env/lib/python3.11/site-packages (from matplotlib) (3.1.1)\n",
      "Requirement already satisfied: scipy>=1.5.0 in ./env/lib/python3.11/site-packages (from scikit-learn) (1.11.4)\n",
      "Requirement already satisfied: joblib>=1.1.1 in ./env/lib/python3.11/site-packages (from scikit-learn) (1.3.2)\n",
      "Requirement already satisfied: threadpoolctl>=2.0.0 in ./env/lib/python3.11/site-packages (from scikit-learn) (3.2.0)\n",
      "Requirement already satisfied: notebook in ./env/lib/python3.11/site-packages (from jupyter) (7.0.6)\n",
      "Requirement already satisfied: qtconsole in ./env/lib/python3.11/site-packages (from jupyter) (5.5.1)\n",
      "Requirement already satisfied: jupyter-console in ./env/lib/python3.11/site-packages (from jupyter) (6.6.3)\n",
      "Requirement already satisfied: nbconvert in ./env/lib/python3.11/site-packages (from jupyter) (7.14.0)\n",
      "Requirement already satisfied: ipykernel in ./env/lib/python3.11/site-packages (from jupyter) (6.28.0)\n",
      "Requirement already satisfied: ipywidgets in ./env/lib/python3.11/site-packages (from jupyter) (8.1.1)\n",
      "Requirement already satisfied: six>=1.5 in ./env/lib/python3.11/site-packages (from python-dateutil>=2.8.2->pandas) (1.16.0)\n",
      "Requirement already satisfied: appnope in ./env/lib/python3.11/site-packages (from ipykernel->jupyter) (0.1.3)\n",
      "Requirement already satisfied: comm>=0.1.1 in ./env/lib/python3.11/site-packages (from ipykernel->jupyter) (0.2.0)\n",
      "Requirement already satisfied: debugpy>=1.6.5 in ./env/lib/python3.11/site-packages (from ipykernel->jupyter) (1.8.0)\n",
      "Requirement already satisfied: ipython>=7.23.1 in ./env/lib/python3.11/site-packages (from ipykernel->jupyter) (8.19.0)\n",
      "Requirement already satisfied: jupyter-client>=6.1.12 in ./env/lib/python3.11/site-packages (from ipykernel->jupyter) (8.6.0)\n",
      "Requirement already satisfied: jupyter-core!=5.0.*,>=4.12 in ./env/lib/python3.11/site-packages (from ipykernel->jupyter) (5.6.1)\n",
      "Requirement already satisfied: matplotlib-inline>=0.1 in ./env/lib/python3.11/site-packages (from ipykernel->jupyter) (0.1.6)\n",
      "Requirement already satisfied: nest-asyncio in ./env/lib/python3.11/site-packages (from ipykernel->jupyter) (1.5.8)\n",
      "Requirement already satisfied: psutil in ./env/lib/python3.11/site-packages (from ipykernel->jupyter) (5.9.7)\n",
      "Requirement already satisfied: pyzmq>=24 in ./env/lib/python3.11/site-packages (from ipykernel->jupyter) (25.1.2)\n",
      "Requirement already satisfied: tornado>=6.1 in ./env/lib/python3.11/site-packages (from ipykernel->jupyter) (6.4)\n",
      "Requirement already satisfied: traitlets>=5.4.0 in ./env/lib/python3.11/site-packages (from ipykernel->jupyter) (5.14.0)\n",
      "Requirement already satisfied: widgetsnbextension~=4.0.9 in ./env/lib/python3.11/site-packages (from ipywidgets->jupyter) (4.0.9)\n",
      "Requirement already satisfied: jupyterlab-widgets~=3.0.9 in ./env/lib/python3.11/site-packages (from ipywidgets->jupyter) (3.0.9)\n",
      "Requirement already satisfied: prompt-toolkit>=3.0.30 in ./env/lib/python3.11/site-packages (from jupyter-console->jupyter) (3.0.43)\n",
      "Requirement already satisfied: pygments in ./env/lib/python3.11/site-packages (from jupyter-console->jupyter) (2.17.2)\n",
      "Requirement already satisfied: beautifulsoup4 in ./env/lib/python3.11/site-packages (from nbconvert->jupyter) (4.12.2)\n",
      "Requirement already satisfied: bleach!=5.0.0 in ./env/lib/python3.11/site-packages (from nbconvert->jupyter) (6.1.0)\n",
      "Requirement already satisfied: defusedxml in ./env/lib/python3.11/site-packages (from nbconvert->jupyter) (0.7.1)\n",
      "Requirement already satisfied: jinja2>=3.0 in ./env/lib/python3.11/site-packages (from nbconvert->jupyter) (3.1.2)\n",
      "Requirement already satisfied: jupyterlab-pygments in ./env/lib/python3.11/site-packages (from nbconvert->jupyter) (0.3.0)\n",
      "Requirement already satisfied: markupsafe>=2.0 in ./env/lib/python3.11/site-packages (from nbconvert->jupyter) (2.1.3)\n",
      "Requirement already satisfied: mistune<4,>=2.0.3 in ./env/lib/python3.11/site-packages (from nbconvert->jupyter) (3.0.2)\n",
      "Requirement already satisfied: nbclient>=0.5.0 in ./env/lib/python3.11/site-packages (from nbconvert->jupyter) (0.9.0)\n",
      "Requirement already satisfied: nbformat>=5.7 in ./env/lib/python3.11/site-packages (from nbconvert->jupyter) (5.9.2)\n",
      "Requirement already satisfied: pandocfilters>=1.4.1 in ./env/lib/python3.11/site-packages (from nbconvert->jupyter) (1.5.0)\n",
      "Requirement already satisfied: tinycss2 in ./env/lib/python3.11/site-packages (from nbconvert->jupyter) (1.2.1)\n",
      "Requirement already satisfied: jupyter-server<3,>=2.4.0 in ./env/lib/python3.11/site-packages (from notebook->jupyter) (2.12.1)\n",
      "Requirement already satisfied: jupyterlab-server<3,>=2.22.1 in ./env/lib/python3.11/site-packages (from notebook->jupyter) (2.25.2)\n",
      "Requirement already satisfied: jupyterlab<5,>=4.0.2 in ./env/lib/python3.11/site-packages (from notebook->jupyter) (4.0.10)\n",
      "Requirement already satisfied: notebook-shim<0.3,>=0.2 in ./env/lib/python3.11/site-packages (from notebook->jupyter) (0.2.3)\n",
      "Requirement already satisfied: qtpy>=2.4.0 in ./env/lib/python3.11/site-packages (from qtconsole->jupyter) (2.4.1)\n",
      "Requirement already satisfied: webencodings in ./env/lib/python3.11/site-packages (from bleach!=5.0.0->nbconvert->jupyter) (0.5.1)\n",
      "Requirement already satisfied: decorator in ./env/lib/python3.11/site-packages (from ipython>=7.23.1->ipykernel->jupyter) (5.1.1)\n",
      "Requirement already satisfied: jedi>=0.16 in ./env/lib/python3.11/site-packages (from ipython>=7.23.1->ipykernel->jupyter) (0.19.1)\n",
      "Requirement already satisfied: stack-data in ./env/lib/python3.11/site-packages (from ipython>=7.23.1->ipykernel->jupyter) (0.6.3)\n",
      "Requirement already satisfied: pexpect>4.3 in ./env/lib/python3.11/site-packages (from ipython>=7.23.1->ipykernel->jupyter) (4.9.0)\n",
      "Requirement already satisfied: platformdirs>=2.5 in ./env/lib/python3.11/site-packages (from jupyter-core!=5.0.*,>=4.12->ipykernel->jupyter) (4.1.0)\n",
      "Requirement already satisfied: anyio>=3.1.0 in ./env/lib/python3.11/site-packages (from jupyter-server<3,>=2.4.0->notebook->jupyter) (4.2.0)\n",
      "Requirement already satisfied: argon2-cffi in ./env/lib/python3.11/site-packages (from jupyter-server<3,>=2.4.0->notebook->jupyter) (23.1.0)\n",
      "Requirement already satisfied: jupyter-events>=0.9.0 in ./env/lib/python3.11/site-packages (from jupyter-server<3,>=2.4.0->notebook->jupyter) (0.9.0)\n",
      "Requirement already satisfied: jupyter-server-terminals in ./env/lib/python3.11/site-packages (from jupyter-server<3,>=2.4.0->notebook->jupyter) (0.5.1)\n",
      "Requirement already satisfied: overrides in ./env/lib/python3.11/site-packages (from jupyter-server<3,>=2.4.0->notebook->jupyter) (7.4.0)\n",
      "Requirement already satisfied: prometheus-client in ./env/lib/python3.11/site-packages (from jupyter-server<3,>=2.4.0->notebook->jupyter) (0.19.0)\n",
      "Requirement already satisfied: send2trash>=1.8.2 in ./env/lib/python3.11/site-packages (from jupyter-server<3,>=2.4.0->notebook->jupyter) (1.8.2)\n",
      "Requirement already satisfied: terminado>=0.8.3 in ./env/lib/python3.11/site-packages (from jupyter-server<3,>=2.4.0->notebook->jupyter) (0.18.0)\n",
      "Requirement already satisfied: websocket-client in ./env/lib/python3.11/site-packages (from jupyter-server<3,>=2.4.0->notebook->jupyter) (1.7.0)\n",
      "Requirement already satisfied: async-lru>=1.0.0 in ./env/lib/python3.11/site-packages (from jupyterlab<5,>=4.0.2->notebook->jupyter) (2.0.4)\n",
      "Requirement already satisfied: jupyter-lsp>=2.0.0 in ./env/lib/python3.11/site-packages (from jupyterlab<5,>=4.0.2->notebook->jupyter) (2.2.1)\n",
      "Requirement already satisfied: babel>=2.10 in ./env/lib/python3.11/site-packages (from jupyterlab-server<3,>=2.22.1->notebook->jupyter) (2.14.0)\n",
      "Requirement already satisfied: json5>=0.9.0 in ./env/lib/python3.11/site-packages (from jupyterlab-server<3,>=2.22.1->notebook->jupyter) (0.9.14)\n",
      "Requirement already satisfied: jsonschema>=4.18.0 in ./env/lib/python3.11/site-packages (from jupyterlab-server<3,>=2.22.1->notebook->jupyter) (4.20.0)\n",
      "Requirement already satisfied: requests>=2.31 in ./env/lib/python3.11/site-packages (from jupyterlab-server<3,>=2.22.1->notebook->jupyter) (2.31.0)\n",
      "Requirement already satisfied: fastjsonschema in ./env/lib/python3.11/site-packages (from nbformat>=5.7->nbconvert->jupyter) (2.19.1)\n",
      "Requirement already satisfied: wcwidth in ./env/lib/python3.11/site-packages (from prompt-toolkit>=3.0.30->jupyter-console->jupyter) (0.2.12)\n",
      "Requirement already satisfied: soupsieve>1.2 in ./env/lib/python3.11/site-packages (from beautifulsoup4->nbconvert->jupyter) (2.5)\n",
      "Requirement already satisfied: idna>=2.8 in ./env/lib/python3.11/site-packages (from anyio>=3.1.0->jupyter-server<3,>=2.4.0->notebook->jupyter) (3.6)\n",
      "Requirement already satisfied: sniffio>=1.1 in ./env/lib/python3.11/site-packages (from anyio>=3.1.0->jupyter-server<3,>=2.4.0->notebook->jupyter) (1.3.0)\n",
      "Requirement already satisfied: parso<0.9.0,>=0.8.3 in ./env/lib/python3.11/site-packages (from jedi>=0.16->ipython>=7.23.1->ipykernel->jupyter) (0.8.3)\n",
      "Requirement already satisfied: attrs>=22.2.0 in ./env/lib/python3.11/site-packages (from jsonschema>=4.18.0->jupyterlab-server<3,>=2.22.1->notebook->jupyter) (23.2.0)\n",
      "Requirement already satisfied: jsonschema-specifications>=2023.03.6 in ./env/lib/python3.11/site-packages (from jsonschema>=4.18.0->jupyterlab-server<3,>=2.22.1->notebook->jupyter) (2023.12.1)\n",
      "Requirement already satisfied: referencing>=0.28.4 in ./env/lib/python3.11/site-packages (from jsonschema>=4.18.0->jupyterlab-server<3,>=2.22.1->notebook->jupyter) (0.32.0)\n",
      "Requirement already satisfied: rpds-py>=0.7.1 in ./env/lib/python3.11/site-packages (from jsonschema>=4.18.0->jupyterlab-server<3,>=2.22.1->notebook->jupyter) (0.16.2)\n",
      "Requirement already satisfied: python-json-logger>=2.0.4 in ./env/lib/python3.11/site-packages (from jupyter-events>=0.9.0->jupyter-server<3,>=2.4.0->notebook->jupyter) (2.0.7)\n",
      "Requirement already satisfied: pyyaml>=5.3 in ./env/lib/python3.11/site-packages (from jupyter-events>=0.9.0->jupyter-server<3,>=2.4.0->notebook->jupyter) (6.0.1)\n",
      "Requirement already satisfied: rfc3339-validator in ./env/lib/python3.11/site-packages (from jupyter-events>=0.9.0->jupyter-server<3,>=2.4.0->notebook->jupyter) (0.1.4)\n",
      "Requirement already satisfied: rfc3986-validator>=0.1.1 in ./env/lib/python3.11/site-packages (from jupyter-events>=0.9.0->jupyter-server<3,>=2.4.0->notebook->jupyter) (0.1.1)\n",
      "Requirement already satisfied: ptyprocess>=0.5 in ./env/lib/python3.11/site-packages (from pexpect>4.3->ipython>=7.23.1->ipykernel->jupyter) (0.7.0)\n",
      "Requirement already satisfied: charset-normalizer<4,>=2 in ./env/lib/python3.11/site-packages (from requests>=2.31->jupyterlab-server<3,>=2.22.1->notebook->jupyter) (3.3.2)\n",
      "Requirement already satisfied: urllib3<3,>=1.21.1 in ./env/lib/python3.11/site-packages (from requests>=2.31->jupyterlab-server<3,>=2.22.1->notebook->jupyter) (2.1.0)\n",
      "Requirement already satisfied: certifi>=2017.4.17 in ./env/lib/python3.11/site-packages (from requests>=2.31->jupyterlab-server<3,>=2.22.1->notebook->jupyter) (2023.11.17)\n",
      "Requirement already satisfied: argon2-cffi-bindings in ./env/lib/python3.11/site-packages (from argon2-cffi->jupyter-server<3,>=2.4.0->notebook->jupyter) (21.2.0)\n",
      "Requirement already satisfied: executing>=1.2.0 in ./env/lib/python3.11/site-packages (from stack-data->ipython>=7.23.1->ipykernel->jupyter) (2.0.1)\n",
      "Requirement already satisfied: asttokens>=2.1.0 in ./env/lib/python3.11/site-packages (from stack-data->ipython>=7.23.1->ipykernel->jupyter) (2.4.1)\n",
      "Requirement already satisfied: pure-eval in ./env/lib/python3.11/site-packages (from stack-data->ipython>=7.23.1->ipykernel->jupyter) (0.2.2)\n",
      "Requirement already satisfied: fqdn in ./env/lib/python3.11/site-packages (from jsonschema[format-nongpl]>=4.18.0->jupyter-events>=0.9.0->jupyter-server<3,>=2.4.0->notebook->jupyter) (1.5.1)\n",
      "Requirement already satisfied: isoduration in ./env/lib/python3.11/site-packages (from jsonschema[format-nongpl]>=4.18.0->jupyter-events>=0.9.0->jupyter-server<3,>=2.4.0->notebook->jupyter) (20.11.0)\n",
      "Requirement already satisfied: jsonpointer>1.13 in ./env/lib/python3.11/site-packages (from jsonschema[format-nongpl]>=4.18.0->jupyter-events>=0.9.0->jupyter-server<3,>=2.4.0->notebook->jupyter) (2.4)\n",
      "Requirement already satisfied: uri-template in ./env/lib/python3.11/site-packages (from jsonschema[format-nongpl]>=4.18.0->jupyter-events>=0.9.0->jupyter-server<3,>=2.4.0->notebook->jupyter) (1.3.0)\n",
      "Requirement already satisfied: webcolors>=1.11 in ./env/lib/python3.11/site-packages (from jsonschema[format-nongpl]>=4.18.0->jupyter-events>=0.9.0->jupyter-server<3,>=2.4.0->notebook->jupyter) (1.13)\n",
      "Requirement already satisfied: cffi>=1.0.1 in ./env/lib/python3.11/site-packages (from argon2-cffi-bindings->argon2-cffi->jupyter-server<3,>=2.4.0->notebook->jupyter) (1.16.0)\n",
      "Requirement already satisfied: pycparser in ./env/lib/python3.11/site-packages (from cffi>=1.0.1->argon2-cffi-bindings->argon2-cffi->jupyter-server<3,>=2.4.0->notebook->jupyter) (2.21)\n",
      "Requirement already satisfied: arrow>=0.15.0 in ./env/lib/python3.11/site-packages (from isoduration->jsonschema[format-nongpl]>=4.18.0->jupyter-events>=0.9.0->jupyter-server<3,>=2.4.0->notebook->jupyter) (1.3.0)\n",
      "Requirement already satisfied: types-python-dateutil>=2.8.10 in ./env/lib/python3.11/site-packages (from arrow>=0.15.0->isoduration->jsonschema[format-nongpl]>=4.18.0->jupyter-events>=0.9.0->jupyter-server<3,>=2.4.0->notebook->jupyter) (2.8.19.14)\n",
      "Note: you may need to restart the kernel to use updated packages.\n"
     ]
    }
   ],
   "source": [
    "%pip install numpy pandas tabulate matplotlib scikit-learn imbalanced-learn jupyter seaborn"
   ]
  },
  {
   "cell_type": "code",
   "execution_count": 3,
   "metadata": {
    "collapsed": false,
    "jupyter": {
     "outputs_hidden": false
    }
   },
   "outputs": [],
   "source": [
    "import numpy as np\n",
    "import pandas as pd\n",
    "import seaborn as sns\n",
    "import csv\n",
    "import os\n",
    "import tabulate\n",
    "from pandas import concat\n",
    "from sklearn.preprocessing import LabelEncoder\n",
    "import matplotlib\n",
    "from matplotlib import pyplot as plt\n",
    "import matplotlib.pyplot as plt\n",
    "from datetime import datetime\n",
    "from sklearn.decomposition import PCA\n",
    "from sklearn import linear_model, decomposition, datasets\n",
    "from sklearn.pipeline import Pipeline\n",
    "from sklearn.model_selection import train_test_split, cross_val_score, GridSearchCV\n",
    "from sklearn.ensemble import RandomForestClassifier\n",
    "from sklearn.model_selection import cross_val_score, KFold\n",
    "from sklearn.metrics import confusion_matrix, roc_curve\n",
    "import warnings\n",
    "warnings.filterwarnings('ignore')\n",
    "%matplotlib inline\n",
    "matplotlib.rcParams.update({'font.size': 12})\n",
    "matplotlib.rc('xtick', labelsize=8) \n",
    "matplotlib.rc('ytick', labelsize=8)"
   ]
  },
  {
   "cell_type": "markdown",
   "metadata": {},
   "source": [
    "### Data Set Up"
   ]
  },
  {
   "cell_type": "code",
   "execution_count": 4,
   "metadata": {
    "collapsed": false,
    "jupyter": {
     "outputs_hidden": false
    }
   },
   "outputs": [],
   "source": [
    "startTime = datetime.now()\n",
    "folderPath = \"/Users/praveen/Desktop/Airline-delay-prediction-in-Python/MEJ/DS Challange/StartUpML/Flight Delay\"\n",
    "os.chdir(folderPath)\n",
    "fdata_list = []  # Initialize as a list\n",
    "\n",
    "for filename in os.listdir(os.getcwd()):\n",
    "    if filename.endswith('.csv') and \"On_Time_On_Time_Performance_2017_1.csv\" in filename:\n",
    "        temp = pd.read_csv(filename)\n",
    "        fdata_list.append(temp)\n",
    "\n",
    "# Concatenate all DataFrames in the list\n",
    "fdata = pd.concat(fdata_list, ignore_index=True)"
   ]
  },
  {
   "cell_type": "code",
   "execution_count": 5,
   "metadata": {
    "collapsed": false,
    "jupyter": {
     "outputs_hidden": false
    }
   },
   "outputs": [],
   "source": [
    "folderPath = \"/Users/praveen/Desktop/Airline-delay-prediction-in-Python/MEJ/DS Challange/StartUpML/Flight Delay\"\n",
    "os.chdir(folderPath)#Setting working directory\n",
    "#fileName = \"On_Time_On_Time_Performance_2017_1.csv\"\n",
    "#fdata = pd.read_csv(fileName)\n",
    "#fdata.shape"
   ]
  },
  {
   "cell_type": "markdown",
   "metadata": {},
   "source": [
    "### Data Wrangling"
   ]
  },
  {
   "cell_type": "markdown",
   "metadata": {},
   "source": [
    "Target variable is 'ArrDel15' and there was substantial class imbalances as seen below. In order to avoid the classifier learning one class better than the other, sampling was done to even out the class imbalance."
   ]
  },
  {
   "cell_type": "code",
   "execution_count": 6,
   "metadata": {
    "collapsed": false,
    "jupyter": {
     "outputs_hidden": false
    }
   },
   "outputs": [
    {
     "name": "stdout",
     "output_type": "stream",
     "text": [
      "Class imbalance:\n",
      "ArrDel15\n",
      "0.0    341946\n",
      "1.0     97699\n",
      "Name: count, dtype: int64\n",
      "Class imbalance evened out:\n",
      "ArrDel15\n",
      "0.0    97699\n",
      "1.0    97699\n",
      "Name: count, dtype: int64\n",
      "110\n"
     ]
    }
   ],
   "source": [
    "#Handles class imbalance through sampling\n",
    "classDistribution = fdata['ArrDel15'].value_counts()\n",
    "print('Class imbalance:')\n",
    "print(classDistribution)\n",
    "zero = fdata[fdata['ArrDel15']==0].tail(classDistribution.min())\n",
    "one = fdata[fdata['ArrDel15']==1]\n",
    "data = pd.concat([zero, one])  # Replace zero.append(one) with this\n",
    "\n",
    "del zero, one\n",
    "\n",
    "# Sort data by date and time\n",
    "data.sort_values(['Year', 'Month', 'DayofMonth', 'DayOfWeek'], ascending=[False, False, False, False], inplace=True)\n",
    "\n",
    "# Print balanced class distribution\n",
    "print('Class imbalance evened out:')\n",
    "print(data['ArrDel15'].value_counts())\n",
    "\n",
    "# Print number of columns\n",
    "print(len(data.columns))"
   ]
  },
  {
   "cell_type": "code",
   "execution_count": 7,
   "metadata": {
    "collapsed": false,
    "jupyter": {
     "outputs_hidden": false
    }
   },
   "outputs": [
    {
     "data": {
      "text/html": [
       "<div>\n",
       "<style scoped>\n",
       "    .dataframe tbody tr th:only-of-type {\n",
       "        vertical-align: middle;\n",
       "    }\n",
       "\n",
       "    .dataframe tbody tr th {\n",
       "        vertical-align: top;\n",
       "    }\n",
       "\n",
       "    .dataframe thead th {\n",
       "        text-align: right;\n",
       "    }\n",
       "</style>\n",
       "<table border=\"1\" class=\"dataframe\">\n",
       "  <thead>\n",
       "    <tr style=\"text-align: right;\">\n",
       "      <th></th>\n",
       "      <th>Year</th>\n",
       "      <th>Quarter</th>\n",
       "      <th>Month</th>\n",
       "      <th>DayofMonth</th>\n",
       "      <th>DayOfWeek</th>\n",
       "      <th>FlightDate</th>\n",
       "      <th>UniqueCarrier</th>\n",
       "      <th>AirlineID</th>\n",
       "      <th>Carrier</th>\n",
       "      <th>TailNum</th>\n",
       "      <th>...</th>\n",
       "      <th>Div4TailNum</th>\n",
       "      <th>Div5Airport</th>\n",
       "      <th>Div5AirportID</th>\n",
       "      <th>Div5AirportSeqID</th>\n",
       "      <th>Div5WheelsOn</th>\n",
       "      <th>Div5TotalGTime</th>\n",
       "      <th>Div5LongestGTime</th>\n",
       "      <th>Div5WheelsOff</th>\n",
       "      <th>Div5TailNum</th>\n",
       "      <th>Unnamed: 109</th>\n",
       "    </tr>\n",
       "  </thead>\n",
       "  <tbody>\n",
       "    <tr>\n",
       "      <th>325049</th>\n",
       "      <td>2017</td>\n",
       "      <td>1</td>\n",
       "      <td>1</td>\n",
       "      <td>31</td>\n",
       "      <td>2</td>\n",
       "      <td>2017-01-31</td>\n",
       "      <td>WN</td>\n",
       "      <td>19393</td>\n",
       "      <td>WN</td>\n",
       "      <td>N246LV</td>\n",
       "      <td>...</td>\n",
       "      <td>NaN</td>\n",
       "      <td>NaN</td>\n",
       "      <td>NaN</td>\n",
       "      <td>NaN</td>\n",
       "      <td>NaN</td>\n",
       "      <td>NaN</td>\n",
       "      <td>NaN</td>\n",
       "      <td>NaN</td>\n",
       "      <td>NaN</td>\n",
       "      <td>NaN</td>\n",
       "    </tr>\n",
       "    <tr>\n",
       "      <th>325050</th>\n",
       "      <td>2017</td>\n",
       "      <td>1</td>\n",
       "      <td>1</td>\n",
       "      <td>31</td>\n",
       "      <td>2</td>\n",
       "      <td>2017-01-31</td>\n",
       "      <td>WN</td>\n",
       "      <td>19393</td>\n",
       "      <td>WN</td>\n",
       "      <td>N8644C</td>\n",
       "      <td>...</td>\n",
       "      <td>NaN</td>\n",
       "      <td>NaN</td>\n",
       "      <td>NaN</td>\n",
       "      <td>NaN</td>\n",
       "      <td>NaN</td>\n",
       "      <td>NaN</td>\n",
       "      <td>NaN</td>\n",
       "      <td>NaN</td>\n",
       "      <td>NaN</td>\n",
       "      <td>NaN</td>\n",
       "    </tr>\n",
       "  </tbody>\n",
       "</table>\n",
       "<p>2 rows × 110 columns</p>\n",
       "</div>"
      ],
      "text/plain": [
       "        Year  Quarter  Month  DayofMonth  DayOfWeek  FlightDate UniqueCarrier  \\\n",
       "325049  2017        1      1          31          2  2017-01-31            WN   \n",
       "325050  2017        1      1          31          2  2017-01-31            WN   \n",
       "\n",
       "        AirlineID Carrier TailNum  ...  Div4TailNum  Div5Airport  \\\n",
       "325049      19393      WN  N246LV  ...          NaN          NaN   \n",
       "325050      19393      WN  N8644C  ...          NaN          NaN   \n",
       "\n",
       "        Div5AirportID  Div5AirportSeqID Div5WheelsOn Div5TotalGTime  \\\n",
       "325049            NaN               NaN          NaN            NaN   \n",
       "325050            NaN               NaN          NaN            NaN   \n",
       "\n",
       "       Div5LongestGTime  Div5WheelsOff Div5TailNum  Unnamed: 109  \n",
       "325049              NaN            NaN         NaN           NaN  \n",
       "325050              NaN            NaN         NaN           NaN  \n",
       "\n",
       "[2 rows x 110 columns]"
      ]
     },
     "execution_count": 7,
     "metadata": {},
     "output_type": "execute_result"
    }
   ],
   "source": [
    "data.head(2)#Showing top 2 rows as sampled data is ordered by time with older data at the top"
   ]
  },
  {
   "cell_type": "code",
   "execution_count": 8,
   "metadata": {
    "collapsed": false,
    "jupyter": {
     "outputs_hidden": false
    }
   },
   "outputs": [
    {
     "data": {
      "text/html": [
       "<div>\n",
       "<style scoped>\n",
       "    .dataframe tbody tr th:only-of-type {\n",
       "        vertical-align: middle;\n",
       "    }\n",
       "\n",
       "    .dataframe tbody tr th {\n",
       "        vertical-align: top;\n",
       "    }\n",
       "\n",
       "    .dataframe thead th {\n",
       "        text-align: right;\n",
       "    }\n",
       "</style>\n",
       "<table border=\"1\" class=\"dataframe\">\n",
       "  <thead>\n",
       "    <tr style=\"text-align: right;\">\n",
       "      <th></th>\n",
       "      <th>Year</th>\n",
       "      <th>Quarter</th>\n",
       "      <th>Month</th>\n",
       "      <th>DayofMonth</th>\n",
       "      <th>DayOfWeek</th>\n",
       "      <th>FlightDate</th>\n",
       "      <th>UniqueCarrier</th>\n",
       "      <th>AirlineID</th>\n",
       "      <th>Carrier</th>\n",
       "      <th>TailNum</th>\n",
       "      <th>...</th>\n",
       "      <th>Div4TailNum</th>\n",
       "      <th>Div5Airport</th>\n",
       "      <th>Div5AirportID</th>\n",
       "      <th>Div5AirportSeqID</th>\n",
       "      <th>Div5WheelsOn</th>\n",
       "      <th>Div5TotalGTime</th>\n",
       "      <th>Div5LongestGTime</th>\n",
       "      <th>Div5WheelsOff</th>\n",
       "      <th>Div5TailNum</th>\n",
       "      <th>Unnamed: 109</th>\n",
       "    </tr>\n",
       "  </thead>\n",
       "  <tbody>\n",
       "    <tr>\n",
       "      <th>425230</th>\n",
       "      <td>2017</td>\n",
       "      <td>1</td>\n",
       "      <td>1</td>\n",
       "      <td>1</td>\n",
       "      <td>7</td>\n",
       "      <td>2017-01-01</td>\n",
       "      <td>VX</td>\n",
       "      <td>21171</td>\n",
       "      <td>VX</td>\n",
       "      <td>N629VA</td>\n",
       "      <td>...</td>\n",
       "      <td>NaN</td>\n",
       "      <td>NaN</td>\n",
       "      <td>NaN</td>\n",
       "      <td>NaN</td>\n",
       "      <td>NaN</td>\n",
       "      <td>NaN</td>\n",
       "      <td>NaN</td>\n",
       "      <td>NaN</td>\n",
       "      <td>NaN</td>\n",
       "      <td>NaN</td>\n",
       "    </tr>\n",
       "    <tr>\n",
       "      <th>425236</th>\n",
       "      <td>2017</td>\n",
       "      <td>1</td>\n",
       "      <td>1</td>\n",
       "      <td>1</td>\n",
       "      <td>7</td>\n",
       "      <td>2017-01-01</td>\n",
       "      <td>VX</td>\n",
       "      <td>21171</td>\n",
       "      <td>VX</td>\n",
       "      <td>N633VA</td>\n",
       "      <td>...</td>\n",
       "      <td>NaN</td>\n",
       "      <td>NaN</td>\n",
       "      <td>NaN</td>\n",
       "      <td>NaN</td>\n",
       "      <td>NaN</td>\n",
       "      <td>NaN</td>\n",
       "      <td>NaN</td>\n",
       "      <td>NaN</td>\n",
       "      <td>NaN</td>\n",
       "      <td>NaN</td>\n",
       "    </tr>\n",
       "  </tbody>\n",
       "</table>\n",
       "<p>2 rows × 110 columns</p>\n",
       "</div>"
      ],
      "text/plain": [
       "        Year  Quarter  Month  DayofMonth  DayOfWeek  FlightDate UniqueCarrier  \\\n",
       "425230  2017        1      1           1          7  2017-01-01            VX   \n",
       "425236  2017        1      1           1          7  2017-01-01            VX   \n",
       "\n",
       "        AirlineID Carrier TailNum  ...  Div4TailNum  Div5Airport  \\\n",
       "425230      21171      VX  N629VA  ...          NaN          NaN   \n",
       "425236      21171      VX  N633VA  ...          NaN          NaN   \n",
       "\n",
       "        Div5AirportID  Div5AirportSeqID Div5WheelsOn Div5TotalGTime  \\\n",
       "425230            NaN               NaN          NaN            NaN   \n",
       "425236            NaN               NaN          NaN            NaN   \n",
       "\n",
       "       Div5LongestGTime  Div5WheelsOff Div5TailNum  Unnamed: 109  \n",
       "425230              NaN            NaN         NaN           NaN  \n",
       "425236              NaN            NaN         NaN           NaN  \n",
       "\n",
       "[2 rows x 110 columns]"
      ]
     },
     "execution_count": 8,
     "metadata": {},
     "output_type": "execute_result"
    }
   ],
   "source": [
    "data.tail(2)#Showing bottom 2 rows as sampled data is ordered by time with latest data at the bottom"
   ]
  },
  {
   "cell_type": "code",
   "execution_count": 9,
   "metadata": {},
   "outputs": [
    {
     "name": "stdout",
     "output_type": "stream",
     "text": [
      "Index(['Year', 'Quarter', 'Month', 'DayofMonth', 'DayOfWeek', 'FlightDate',\n",
      "       'UniqueCarrier', 'AirlineID', 'Carrier', 'TailNum',\n",
      "       ...\n",
      "       'Div4TailNum', 'Div5Airport', 'Div5AirportID', 'Div5AirportSeqID',\n",
      "       'Div5WheelsOn', 'Div5TotalGTime', 'Div5LongestGTime', 'Div5WheelsOff',\n",
      "       'Div5TailNum', 'Unnamed: 109'],\n",
      "      dtype='object', length=110)\n"
     ]
    }
   ],
   "source": [
    "print(data.columns)"
   ]
  },
  {
   "cell_type": "markdown",
   "metadata": {},
   "source": [
    "###### Sparsity: \n",
    "Columns with >80% missing values are worth not pursuing for analysis and cannot be imputed sensibly as well"
   ]
  },
  {
   "cell_type": "code",
   "execution_count": 10,
   "metadata": {
    "collapsed": false,
    "jupyter": {
     "outputs_hidden": false
    }
   },
   "outputs": [
    {
     "name": "stdout",
     "output_type": "stream",
     "text": [
      "Dimension reduced to:\n"
     ]
    },
    {
     "data": {
      "text/plain": [
       "56"
      ]
     },
     "execution_count": 10,
     "metadata": {},
     "output_type": "execute_result"
    }
   ],
   "source": [
    "data = data.iloc[:,0:56]#Removing sparse columns based on the information given in DOT website\n",
    "print('Dimension reduced to:')\n",
    "len(data.columns)"
   ]
  },
  {
   "cell_type": "code",
   "execution_count": 11,
   "metadata": {},
   "outputs": [
    {
     "name": "stdout",
     "output_type": "stream",
     "text": [
      "Index(['Year', 'Quarter', 'Month', 'DayofMonth', 'DayOfWeek', 'FlightDate',\n",
      "       'UniqueCarrier', 'AirlineID', 'Carrier', 'TailNum', 'FlightNum',\n",
      "       'OriginAirportID', 'OriginAirportSeqID', 'OriginCityMarketID', 'Origin',\n",
      "       'OriginCityName', 'OriginState', 'OriginStateFips', 'OriginStateName',\n",
      "       'OriginWac', 'DestAirportID', 'DestAirportSeqID', 'DestCityMarketID',\n",
      "       'Dest', 'DestCityName', 'DestState', 'DestStateFips', 'DestStateName',\n",
      "       'DestWac', 'CRSDepTime', 'DepTime', 'DepDelay', 'DepDelayMinutes',\n",
      "       'DepDel15', 'DepartureDelayGroups', 'DepTimeBlk', 'TaxiOut',\n",
      "       'WheelsOff', 'WheelsOn', 'TaxiIn', 'CRSArrTime', 'ArrTime', 'ArrDelay',\n",
      "       'ArrDelayMinutes', 'ArrDel15', 'ArrivalDelayGroups', 'ArrTimeBlk',\n",
      "       'Cancelled', 'CancellationCode', 'Diverted', 'CRSElapsedTime',\n",
      "       'ActualElapsedTime', 'AirTime', 'Flights', 'Distance', 'DistanceGroup'],\n",
      "      dtype='object')\n"
     ]
    }
   ],
   "source": [
    "print(data.columns)"
   ]
  },
  {
   "cell_type": "code",
   "execution_count": 12,
   "metadata": {
    "collapsed": false,
    "jupyter": {
     "outputs_hidden": false
    },
    "scrolled": true
   },
   "outputs": [
    {
     "name": "stdout",
     "output_type": "stream",
     "text": [
      "Dimension reduced to:\n",
      "56\n",
      "Sparsity per variable:\n"
     ]
    },
    {
     "data": {
      "text/plain": [
       "Year                    0.0\n",
       "Quarter                 0.0\n",
       "Month                   0.0\n",
       "DayofMonth              0.0\n",
       "DayOfWeek               0.0\n",
       "FlightDate              0.0\n",
       "UniqueCarrier           0.0\n",
       "AirlineID               0.0\n",
       "Carrier                 0.0\n",
       "TailNum                 0.0\n",
       "FlightNum               0.0\n",
       "OriginAirportID         0.0\n",
       "OriginAirportSeqID      0.0\n",
       "OriginCityMarketID      0.0\n",
       "Origin                  0.0\n",
       "OriginCityName          0.0\n",
       "OriginState             0.0\n",
       "OriginStateFips         0.0\n",
       "OriginStateName         0.0\n",
       "OriginWac               0.0\n",
       "DestAirportID           0.0\n",
       "DestAirportSeqID        0.0\n",
       "DestCityMarketID        0.0\n",
       "Dest                    0.0\n",
       "DestCityName            0.0\n",
       "DestState               0.0\n",
       "DestStateFips           0.0\n",
       "DestStateName           0.0\n",
       "DestWac                 0.0\n",
       "CRSDepTime              0.0\n",
       "DepTime                 0.0\n",
       "DepDelay                0.0\n",
       "DepDelayMinutes         0.0\n",
       "DepDel15                0.0\n",
       "DepartureDelayGroups    0.0\n",
       "DepTimeBlk              0.0\n",
       "TaxiOut                 0.0\n",
       "WheelsOff               0.0\n",
       "WheelsOn                0.0\n",
       "TaxiIn                  0.0\n",
       "CRSArrTime              0.0\n",
       "ArrTime                 0.0\n",
       "ArrDelay                0.0\n",
       "ArrDelayMinutes         0.0\n",
       "ArrDel15                0.0\n",
       "ArrivalDelayGroups      0.0\n",
       "ArrTimeBlk              0.0\n",
       "Cancelled               0.0\n",
       "CancellationCode        1.0\n",
       "Diverted                0.0\n",
       "CRSElapsedTime          0.0\n",
       "ActualElapsedTime       0.0\n",
       "AirTime                 0.0\n",
       "Flights                 0.0\n",
       "Distance                0.0\n",
       "DistanceGroup           0.0\n",
       "dtype: float64"
      ]
     },
     "execution_count": 12,
     "metadata": {},
     "output_type": "execute_result"
    }
   ],
   "source": [
    "print('Dimension reduced to:')\n",
    "print(len(data.columns))\n",
    "print('Sparsity per variable:')\n",
    "((len(data.index) - data.count())/len(data.index))#Sparsity per variable retained"
   ]
  },
  {
   "cell_type": "code",
   "execution_count": 13,
   "metadata": {},
   "outputs": [
    {
     "name": "stdout",
     "output_type": "stream",
     "text": [
      "Index(['Year', 'Quarter', 'Month', 'DayofMonth', 'DayOfWeek', 'FlightDate',\n",
      "       'UniqueCarrier', 'AirlineID', 'Carrier', 'TailNum', 'FlightNum',\n",
      "       'OriginAirportID', 'OriginAirportSeqID', 'OriginCityMarketID', 'Origin',\n",
      "       'OriginCityName', 'OriginState', 'OriginStateFips', 'OriginStateName',\n",
      "       'OriginWac', 'DestAirportID', 'DestAirportSeqID', 'DestCityMarketID',\n",
      "       'Dest', 'DestCityName', 'DestState', 'DestStateFips', 'DestStateName',\n",
      "       'DestWac', 'CRSDepTime', 'DepTime', 'DepDelay', 'DepDelayMinutes',\n",
      "       'DepDel15', 'DepartureDelayGroups', 'DepTimeBlk', 'TaxiOut',\n",
      "       'WheelsOff', 'WheelsOn', 'TaxiIn', 'CRSArrTime', 'ArrTime', 'ArrDelay',\n",
      "       'ArrDelayMinutes', 'ArrDel15', 'ArrivalDelayGroups', 'ArrTimeBlk',\n",
      "       'Cancelled', 'CancellationCode', 'Diverted', 'CRSElapsedTime',\n",
      "       'ActualElapsedTime', 'AirTime', 'Flights', 'Distance', 'DistanceGroup'],\n",
      "      dtype='object')\n"
     ]
    }
   ],
   "source": [
    "print(data.columns)"
   ]
  },
  {
   "cell_type": "code",
   "execution_count": 14,
   "metadata": {
    "collapsed": true,
    "jupyter": {
     "outputs_hidden": true
    }
   },
   "outputs": [],
   "source": [
    "data.drop(['DepDelay','DepDel15','ArrDelay','DepDelayMinutes','ArrDelayMinutes'],\n",
    "          axis=1, inplace=True)#To be excluded as per the task\n",
    "data.drop(['CancellationCode'], axis=1, inplace=True)#Removed due to 100% sparsity as seen in above cell\n",
    "data[\"FlightDate\"] = data[\"FlightDate\"].apply(lambda x: int(''.join(x.split(\"-\"))))#Formatting date for convinience"
   ]
  },
  {
   "cell_type": "code",
   "execution_count": 15,
   "metadata": {
    "collapsed": false,
    "jupyter": {
     "outputs_hidden": false
    },
    "scrolled": true
   },
   "outputs": [
    {
     "name": "stdout",
     "output_type": "stream",
     "text": [
      "Datatype of variables:\n"
     ]
    },
    {
     "data": {
      "text/plain": [
       "Year                      int64\n",
       "Quarter                   int64\n",
       "Month                     int64\n",
       "DayofMonth                int64\n",
       "DayOfWeek                 int64\n",
       "FlightDate                int64\n",
       "UniqueCarrier            object\n",
       "AirlineID                 int64\n",
       "Carrier                  object\n",
       "TailNum                  object\n",
       "FlightNum                 int64\n",
       "OriginAirportID           int64\n",
       "OriginAirportSeqID        int64\n",
       "OriginCityMarketID        int64\n",
       "Origin                   object\n",
       "OriginCityName           object\n",
       "OriginState              object\n",
       "OriginStateFips           int64\n",
       "OriginStateName          object\n",
       "OriginWac                 int64\n",
       "DestAirportID             int64\n",
       "DestAirportSeqID          int64\n",
       "DestCityMarketID          int64\n",
       "Dest                     object\n",
       "DestCityName             object\n",
       "DestState                object\n",
       "DestStateFips             int64\n",
       "DestStateName            object\n",
       "DestWac                   int64\n",
       "CRSDepTime                int64\n",
       "DepTime                 float64\n",
       "DepartureDelayGroups    float64\n",
       "DepTimeBlk               object\n",
       "TaxiOut                 float64\n",
       "WheelsOff               float64\n",
       "WheelsOn                float64\n",
       "TaxiIn                  float64\n",
       "CRSArrTime                int64\n",
       "ArrTime                 float64\n",
       "ArrDel15                float64\n",
       "ArrivalDelayGroups      float64\n",
       "ArrTimeBlk               object\n",
       "Cancelled               float64\n",
       "Diverted                float64\n",
       "CRSElapsedTime          float64\n",
       "ActualElapsedTime       float64\n",
       "AirTime                 float64\n",
       "Flights                 float64\n",
       "Distance                float64\n",
       "DistanceGroup             int64\n",
       "dtype: object"
      ]
     },
     "execution_count": 15,
     "metadata": {},
     "output_type": "execute_result"
    }
   ],
   "source": [
    "print('Datatype of variables:')\n",
    "data.dtypes#Checking variable data type as numeric type is most easy to deal with"
   ]
  },
  {
   "cell_type": "markdown",
   "metadata": {},
   "source": [
    "### Exploratory Analysis"
   ]
  },
  {
   "cell_type": "code",
   "execution_count": 16,
   "metadata": {
    "collapsed": false,
    "jupyter": {
     "outputs_hidden": false
    },
    "scrolled": true
   },
   "outputs": [
    {
     "data": {
      "image/png": "[encoded data removed]",
      "text/plain": [
       "<Figure size 1500x4000 with 8 Axes>"
      ]
     },
     "metadata": {},
     "output_type": "display_data"
    }
   ],
   "source": [
    "# Proportion of late flights per category based on all other flights\n",
    "\n",
    "# Calculate average late proportion\n",
    "avgLate = data['ArrDel15'].mean()\n",
    "\n",
    "# Define attributes for analysis\n",
    "attributes = ['Month', 'DayOfWeek', 'DayofMonth', 'DepTimeBlk', 'ArrTimeBlk', 'UniqueCarrier',\n",
    "               'ArrivalDelayGroups', 'DepartureDelayGroups']\n",
    "\n",
    "# Set up subplots\n",
    "fig, axes = plt.subplots(nrows=len(attributes), ncols=1, figsize=(15, 5 * len(attributes)))\n",
    "\n",
    "# Iterate through attributes\n",
    "for i, pred in enumerate(attributes):\n",
    "    # Group by the current attribute and calculate the mean\n",
    "    group = data.groupby(pred)['ArrDel15'].mean().reset_index()\n",
    "    group = group.sort_values(by=pred)\n",
    "\n",
    "    # Plot the bar chart\n",
    "    sns.barplot(x=pred, y='ArrDel15', data=group, ax=axes[i])\n",
    "\n",
    "    # Add average line\n",
    "    axes[i].axhline(y=avgLate, color='red', linestyle='--', label='Average')\n",
    "    \n",
    "    # Set labels and title\n",
    "    axes[i].set_ylabel('Percent of Flights that Arrive Late')\n",
    "    axes[i].set_title(pred)\n",
    "    axes[i].legend()\n",
    "\n",
    "# Adjust layout\n",
    "plt.tight_layout()\n",
    "plt.show()"
   ]
  },
  {
   "cell_type": "markdown",
   "metadata": {},
   "source": [
    "###### Exploratory analysis reveals:\n",
    "\n",
    "    (1) Delay changes substantially with Month e.g. lower delays in Autumn months   \n",
    "    (2) Not much variation within week and day of month    \n",
    "    (3) Higher delays for flights with departure and arrival time blocks from 3pm until midnight   \n",
    "        (a) There seems to be a lag in the pattern for arrival time block   \n",
    "        (b) Pattern starts with departure time block around 2pm and lasts until midnight    \n",
    "        (c) Pattern starts with arrival time block around 4pm and lasts until 1am (with a lag of 1-2hrs)   \n",
    "    (5)Similar pattern is observed for arrival and departure delay groups    "
   ]
  },
  {
   "cell_type": "markdown",
   "metadata": {},
   "source": [
    "###### Label encoding:\n",
    "Conversion of categorical values to numericals"
   ]
  },
  {
   "cell_type": "code",
   "execution_count": 17,
   "metadata": {
    "collapsed": false,
    "jupyter": {
     "outputs_hidden": false
    }
   },
   "outputs": [],
   "source": [
    "le = LabelEncoder()\n",
    "\n",
    "data[\"Unique_Carrier\"] = le.fit_transform(data[\"UniqueCarrier\"])\n",
    "UniqueCarrier = list(le.classes_)\n",
    "data[\"Carrier_Name\"] = le.fit_transform(data[\"Carrier\"])\n",
    "Carrier = list(le.classes_)\n",
    "data[\"Tail_Number\"] = le.fit_transform(data[\"TailNum\"])\n",
    "TailNum = list(le.classes_)\n",
    "\n",
    "data[\"Origin_Point\"] = le.fit_transform(data[\"Origin\"])\n",
    "Origin = list(le.classes_)\n",
    "data[\"Origin_CityName\"] = le.fit_transform(data[\"OriginCityName\"])\n",
    "OriginCityName = list(le.classes_)\n",
    "data[\"Origin_State\"] = le.fit_transform(data[\"OriginState\"])\n",
    "OriginState = list(le.classes_)\n",
    "data[\"OriginState_Name\"] = le.fit_transform(data[\"OriginStateName\"])\n",
    "OriginStateName = list(le.classes_)\n",
    "\n",
    "data[\"Destination\"] = le.fit_transform(data[\"Dest\"])\n",
    "Dest = list(le.classes_)\n",
    "data[\"Dest_CityName\"] = le.fit_transform(data[\"DestCityName\"])\n",
    "DestCityName = list(le.classes_)\n",
    "data[\"Dest_State\"] = le.fit_transform(data[\"DestState\"])\n",
    "DestState = list(le.classes_)\n",
    "data[\"Dest_StateName\"] = le.fit_transform(data[\"DestStateName\"])\n",
    "DestStateName = list(le.classes_)\n",
    "\n",
    "data[\"DepTime_Blk\"] = le.fit_transform(data[\"DepTimeBlk\"])\n",
    "DepTimeBlk = list(le.classes_)\n",
    "data[\"ArrTime_Blk\"] = le.fit_transform(data[\"ArrTimeBlk\"])\n",
    "ArrTimeBlk = list(le.classes_)"
   ]
  },
  {
   "cell_type": "code",
   "execution_count": 18,
   "metadata": {
    "collapsed": true,
    "jupyter": {
     "outputs_hidden": true
    }
   },
   "outputs": [],
   "source": [
    "data.drop(['UniqueCarrier','Carrier','TailNum',\n",
    "           'Origin','OriginCityName','OriginState','OriginStateName',\n",
    "          'Dest','DestCityName','DestState','DestStateName',\n",
    "          'DepTimeBlk','ArrTimeBlk'], axis=1, inplace=True)#Removing original encoded columns"
   ]
  },
  {
   "cell_type": "code",
   "execution_count": 19,
   "metadata": {
    "collapsed": true,
    "jupyter": {
     "outputs_hidden": true
    }
   },
   "outputs": [],
   "source": [
    "data.drop(['DepartureDelayGroups','ArrivalDelayGroups'], axis=1, inplace=True)#Removing delay details as per the task"
   ]
  },
  {
   "cell_type": "code",
   "execution_count": 20,
   "metadata": {
    "collapsed": false,
    "jupyter": {
     "outputs_hidden": false
    }
   },
   "outputs": [
    {
     "name": "stdout",
     "output_type": "stream",
     "text": [
      "Dimension reduced to:\n",
      "48\n"
     ]
    },
    {
     "data": {
      "text/html": [
       "<div>\n",
       "<style scoped>\n",
       "    .dataframe tbody tr th:only-of-type {\n",
       "        vertical-align: middle;\n",
       "    }\n",
       "\n",
       "    .dataframe tbody tr th {\n",
       "        vertical-align: top;\n",
       "    }\n",
       "\n",
       "    .dataframe thead th {\n",
       "        text-align: right;\n",
       "    }\n",
       "</style>\n",
       "<table border=\"1\" class=\"dataframe\">\n",
       "  <thead>\n",
       "    <tr style=\"text-align: right;\">\n",
       "      <th></th>\n",
       "      <th>Year</th>\n",
       "      <th>Quarter</th>\n",
       "      <th>Month</th>\n",
       "      <th>DayofMonth</th>\n",
       "      <th>DayOfWeek</th>\n",
       "      <th>FlightDate</th>\n",
       "      <th>AirlineID</th>\n",
       "      <th>FlightNum</th>\n",
       "      <th>OriginAirportID</th>\n",
       "      <th>OriginAirportSeqID</th>\n",
       "      <th>...</th>\n",
       "      <th>Origin_Point</th>\n",
       "      <th>Origin_CityName</th>\n",
       "      <th>Origin_State</th>\n",
       "      <th>OriginState_Name</th>\n",
       "      <th>Destination</th>\n",
       "      <th>Dest_CityName</th>\n",
       "      <th>Dest_State</th>\n",
       "      <th>Dest_StateName</th>\n",
       "      <th>DepTime_Blk</th>\n",
       "      <th>ArrTime_Blk</th>\n",
       "    </tr>\n",
       "  </thead>\n",
       "  <tbody>\n",
       "    <tr>\n",
       "      <th>count</th>\n",
       "      <td>195398.0</td>\n",
       "      <td>195398.0</td>\n",
       "      <td>195398.0</td>\n",
       "      <td>195398.000000</td>\n",
       "      <td>195398.000000</td>\n",
       "      <td>1.953980e+05</td>\n",
       "      <td>195398.000000</td>\n",
       "      <td>195398.000000</td>\n",
       "      <td>195398.000000</td>\n",
       "      <td>1.953980e+05</td>\n",
       "      <td>...</td>\n",
       "      <td>195398.000000</td>\n",
       "      <td>195398.000000</td>\n",
       "      <td>195398.000000</td>\n",
       "      <td>195398.000000</td>\n",
       "      <td>195398.000000</td>\n",
       "      <td>195398.000000</td>\n",
       "      <td>195398.000000</td>\n",
       "      <td>195398.000000</td>\n",
       "      <td>195398.000000</td>\n",
       "      <td>195398.000000</td>\n",
       "    </tr>\n",
       "    <tr>\n",
       "      <th>mean</th>\n",
       "      <td>2017.0</td>\n",
       "      <td>1.0</td>\n",
       "      <td>1.0</td>\n",
       "      <td>14.908019</td>\n",
       "      <td>3.888279</td>\n",
       "      <td>2.017011e+07</td>\n",
       "      <td>19916.178722</td>\n",
       "      <td>2052.984749</td>\n",
       "      <td>12741.414339</td>\n",
       "      <td>1.274144e+06</td>\n",
       "      <td>...</td>\n",
       "      <td>151.186015</td>\n",
       "      <td>146.309404</td>\n",
       "      <td>20.438311</td>\n",
       "      <td>20.252449</td>\n",
       "      <td>152.772838</td>\n",
       "      <td>148.507610</td>\n",
       "      <td>20.264138</td>\n",
       "      <td>20.066761</td>\n",
       "      <td>8.347051</td>\n",
       "      <td>10.153006</td>\n",
       "    </tr>\n",
       "    <tr>\n",
       "      <th>std</th>\n",
       "      <td>0.0</td>\n",
       "      <td>0.0</td>\n",
       "      <td>0.0</td>\n",
       "      <td>8.893236</td>\n",
       "      <td>2.077276</td>\n",
       "      <td>8.893236e+00</td>\n",
       "      <td>388.719304</td>\n",
       "      <td>1770.954609</td>\n",
       "      <td>1523.936548</td>\n",
       "      <td>1.523934e+05</td>\n",
       "      <td>...</td>\n",
       "      <td>82.286669</td>\n",
       "      <td>84.051748</td>\n",
       "      <td>15.446342</td>\n",
       "      <td>15.413726</td>\n",
       "      <td>81.897618</td>\n",
       "      <td>83.353483</td>\n",
       "      <td>15.458631</td>\n",
       "      <td>15.416283</td>\n",
       "      <td>4.707543</td>\n",
       "      <td>4.843658</td>\n",
       "    </tr>\n",
       "    <tr>\n",
       "      <th>min</th>\n",
       "      <td>2017.0</td>\n",
       "      <td>1.0</td>\n",
       "      <td>1.0</td>\n",
       "      <td>1.000000</td>\n",
       "      <td>1.000000</td>\n",
       "      <td>2.017010e+07</td>\n",
       "      <td>19393.000000</td>\n",
       "      <td>1.000000</td>\n",
       "      <td>10135.000000</td>\n",
       "      <td>1.013503e+06</td>\n",
       "      <td>...</td>\n",
       "      <td>0.000000</td>\n",
       "      <td>0.000000</td>\n",
       "      <td>0.000000</td>\n",
       "      <td>0.000000</td>\n",
       "      <td>0.000000</td>\n",
       "      <td>0.000000</td>\n",
       "      <td>0.000000</td>\n",
       "      <td>0.000000</td>\n",
       "      <td>0.000000</td>\n",
       "      <td>0.000000</td>\n",
       "    </tr>\n",
       "    <tr>\n",
       "      <th>25%</th>\n",
       "      <td>2017.0</td>\n",
       "      <td>1.0</td>\n",
       "      <td>1.0</td>\n",
       "      <td>6.000000</td>\n",
       "      <td>2.000000</td>\n",
       "      <td>2.017011e+07</td>\n",
       "      <td>19790.000000</td>\n",
       "      <td>591.000000</td>\n",
       "      <td>11292.000000</td>\n",
       "      <td>1.129202e+06</td>\n",
       "      <td>...</td>\n",
       "      <td>75.000000</td>\n",
       "      <td>68.000000</td>\n",
       "      <td>7.000000</td>\n",
       "      <td>7.000000</td>\n",
       "      <td>75.000000</td>\n",
       "      <td>69.000000</td>\n",
       "      <td>6.000000</td>\n",
       "      <td>6.000000</td>\n",
       "      <td>4.000000</td>\n",
       "      <td>6.000000</td>\n",
       "    </tr>\n",
       "    <tr>\n",
       "      <th>50%</th>\n",
       "      <td>2017.0</td>\n",
       "      <td>1.0</td>\n",
       "      <td>1.0</td>\n",
       "      <td>15.000000</td>\n",
       "      <td>4.000000</td>\n",
       "      <td>2.017012e+07</td>\n",
       "      <td>19805.000000</td>\n",
       "      <td>1525.000000</td>\n",
       "      <td>12892.000000</td>\n",
       "      <td>1.289204e+06</td>\n",
       "      <td>...</td>\n",
       "      <td>160.000000</td>\n",
       "      <td>165.000000</td>\n",
       "      <td>17.000000</td>\n",
       "      <td>18.000000</td>\n",
       "      <td>160.000000</td>\n",
       "      <td>167.000000</td>\n",
       "      <td>16.000000</td>\n",
       "      <td>16.000000</td>\n",
       "      <td>8.000000</td>\n",
       "      <td>11.000000</td>\n",
       "    </tr>\n",
       "    <tr>\n",
       "      <th>75%</th>\n",
       "      <td>2017.0</td>\n",
       "      <td>1.0</td>\n",
       "      <td>1.0</td>\n",
       "      <td>22.000000</td>\n",
       "      <td>6.000000</td>\n",
       "      <td>2.017012e+07</td>\n",
       "      <td>20304.000000</td>\n",
       "      <td>3113.000000</td>\n",
       "      <td>14057.000000</td>\n",
       "      <td>1.405702e+06</td>\n",
       "      <td>...</td>\n",
       "      <td>218.000000</td>\n",
       "      <td>220.000000</td>\n",
       "      <td>33.000000</td>\n",
       "      <td>33.000000</td>\n",
       "      <td>221.000000</td>\n",
       "      <td>219.000000</td>\n",
       "      <td>33.000000</td>\n",
       "      <td>33.000000</td>\n",
       "      <td>12.000000</td>\n",
       "      <td>14.000000</td>\n",
       "    </tr>\n",
       "    <tr>\n",
       "      <th>max</th>\n",
       "      <td>2017.0</td>\n",
       "      <td>1.0</td>\n",
       "      <td>1.0</td>\n",
       "      <td>31.000000</td>\n",
       "      <td>7.000000</td>\n",
       "      <td>2.017013e+07</td>\n",
       "      <td>21171.000000</td>\n",
       "      <td>7439.000000</td>\n",
       "      <td>16218.000000</td>\n",
       "      <td>1.621801e+06</td>\n",
       "      <td>...</td>\n",
       "      <td>296.000000</td>\n",
       "      <td>292.000000</td>\n",
       "      <td>51.000000</td>\n",
       "      <td>51.000000</td>\n",
       "      <td>295.000000</td>\n",
       "      <td>291.000000</td>\n",
       "      <td>51.000000</td>\n",
       "      <td>51.000000</td>\n",
       "      <td>18.000000</td>\n",
       "      <td>18.000000</td>\n",
       "    </tr>\n",
       "  </tbody>\n",
       "</table>\n",
       "<p>8 rows × 48 columns</p>\n",
       "</div>"
      ],
      "text/plain": [
       "           Year   Quarter     Month     DayofMonth      DayOfWeek  \\\n",
       "count  195398.0  195398.0  195398.0  195398.000000  195398.000000   \n",
       "mean     2017.0       1.0       1.0      14.908019       3.888279   \n",
       "std         0.0       0.0       0.0       8.893236       2.077276   \n",
       "min      2017.0       1.0       1.0       1.000000       1.000000   \n",
       "25%      2017.0       1.0       1.0       6.000000       2.000000   \n",
       "50%      2017.0       1.0       1.0      15.000000       4.000000   \n",
       "75%      2017.0       1.0       1.0      22.000000       6.000000   \n",
       "max      2017.0       1.0       1.0      31.000000       7.000000   \n",
       "\n",
       "         FlightDate      AirlineID      FlightNum  OriginAirportID  \\\n",
       "count  1.953980e+05  195398.000000  195398.000000    195398.000000   \n",
       "mean   2.017011e+07   19916.178722    2052.984749     12741.414339   \n",
       "std    8.893236e+00     388.719304    1770.954609      1523.936548   \n",
       "min    2.017010e+07   19393.000000       1.000000     10135.000000   \n",
       "25%    2.017011e+07   19790.000000     591.000000     11292.000000   \n",
       "50%    2.017012e+07   19805.000000    1525.000000     12892.000000   \n",
       "75%    2.017012e+07   20304.000000    3113.000000     14057.000000   \n",
       "max    2.017013e+07   21171.000000    7439.000000     16218.000000   \n",
       "\n",
       "       OriginAirportSeqID  ...   Origin_Point  Origin_CityName   Origin_State  \\\n",
       "count        1.953980e+05  ...  195398.000000    195398.000000  195398.000000   \n",
       "mean         1.274144e+06  ...     151.186015       146.309404      20.438311   \n",
       "std          1.523934e+05  ...      82.286669        84.051748      15.446342   \n",
       "min          1.013503e+06  ...       0.000000         0.000000       0.000000   \n",
       "25%          1.129202e+06  ...      75.000000        68.000000       7.000000   \n",
       "50%          1.289204e+06  ...     160.000000       165.000000      17.000000   \n",
       "75%          1.405702e+06  ...     218.000000       220.000000      33.000000   \n",
       "max          1.621801e+06  ...     296.000000       292.000000      51.000000   \n",
       "\n",
       "       OriginState_Name    Destination  Dest_CityName     Dest_State  \\\n",
       "count     195398.000000  195398.000000  195398.000000  195398.000000   \n",
       "mean          20.252449     152.772838     148.507610      20.264138   \n",
       "std           15.413726      81.897618      83.353483      15.458631   \n",
       "min            0.000000       0.000000       0.000000       0.000000   \n",
       "25%            7.000000      75.000000      69.000000       6.000000   \n",
       "50%           18.000000     160.000000     167.000000      16.000000   \n",
       "75%           33.000000     221.000000     219.000000      33.000000   \n",
       "max           51.000000     295.000000     291.000000      51.000000   \n",
       "\n",
       "       Dest_StateName    DepTime_Blk    ArrTime_Blk  \n",
       "count   195398.000000  195398.000000  195398.000000  \n",
       "mean        20.066761       8.347051      10.153006  \n",
       "std         15.416283       4.707543       4.843658  \n",
       "min          0.000000       0.000000       0.000000  \n",
       "25%          6.000000       4.000000       6.000000  \n",
       "50%         16.000000       8.000000      11.000000  \n",
       "75%         33.000000      12.000000      14.000000  \n",
       "max         51.000000      18.000000      18.000000  \n",
       "\n",
       "[8 rows x 48 columns]"
      ]
     },
     "execution_count": 20,
     "metadata": {},
     "output_type": "execute_result"
    }
   ],
   "source": [
    "print('Dimension reduced to:')\n",
    "print(len(data.columns))\n",
    "data.describe()"
   ]
  },
  {
   "cell_type": "markdown",
   "metadata": {},
   "source": [
    "All variables are now numeric. But above statistics makes sense only for originally numeric variables. For e.g. central tendency measures for Year, Airline ID etc. do not make much sense."
   ]
  },
  {
   "cell_type": "markdown",
   "metadata": {},
   "source": [
    "# Machine Learning Modeling"
   ]
  },
  {
   "cell_type": "markdown",
   "metadata": {},
   "source": [
    "### Random Forest is chosen for Machine Learning due to following reasons:\n",
    "(1) Large data size   \n",
    "(2) Categorical nature of many variables   \n",
    "(3) Non-linearity of dataset (LinearRegression was attempted but had high MSE; Linear relation doesn't exist for many variables)  \n",
    "(4) Underlying complex dependencies between variables"
   ]
  },
  {
   "cell_type": "markdown",
   "metadata": {},
   "source": [
    "## PART 2: Model creation with original raw data"
   ]
  },
  {
   "cell_type": "markdown",
   "metadata": {},
   "source": [
    "### Feature Selection to remove redundant variables"
   ]
  },
  {
   "cell_type": "markdown",
   "metadata": {},
   "source": [
    "###### Creation of data subset:\n",
    "Predictor and target variable columns along with some basic statistics"
   ]
  },
  {
   "cell_type": "code",
   "execution_count": 21,
   "metadata": {
    "collapsed": false,
    "jupyter": {
     "outputs_hidden": false
    }
   },
   "outputs": [
    {
     "name": "stdout",
     "output_type": "stream",
     "text": [
      "Dimension reduced to:\n",
      "47\n"
     ]
    },
    {
     "data": {
      "text/html": [
       "<div>\n",
       "<style scoped>\n",
       "    .dataframe tbody tr th:only-of-type {\n",
       "        vertical-align: middle;\n",
       "    }\n",
       "\n",
       "    .dataframe tbody tr th {\n",
       "        vertical-align: top;\n",
       "    }\n",
       "\n",
       "    .dataframe thead th {\n",
       "        text-align: right;\n",
       "    }\n",
       "</style>\n",
       "<table border=\"1\" class=\"dataframe\">\n",
       "  <thead>\n",
       "    <tr style=\"text-align: right;\">\n",
       "      <th></th>\n",
       "      <th>Year</th>\n",
       "      <th>Quarter</th>\n",
       "      <th>Month</th>\n",
       "      <th>DayofMonth</th>\n",
       "      <th>DayOfWeek</th>\n",
       "      <th>FlightDate</th>\n",
       "      <th>AirlineID</th>\n",
       "      <th>FlightNum</th>\n",
       "      <th>OriginAirportID</th>\n",
       "      <th>OriginAirportSeqID</th>\n",
       "      <th>...</th>\n",
       "      <th>Origin_Point</th>\n",
       "      <th>Origin_CityName</th>\n",
       "      <th>Origin_State</th>\n",
       "      <th>OriginState_Name</th>\n",
       "      <th>Destination</th>\n",
       "      <th>Dest_CityName</th>\n",
       "      <th>Dest_State</th>\n",
       "      <th>Dest_StateName</th>\n",
       "      <th>DepTime_Blk</th>\n",
       "      <th>ArrTime_Blk</th>\n",
       "    </tr>\n",
       "  </thead>\n",
       "  <tbody>\n",
       "    <tr>\n",
       "      <th>count</th>\n",
       "      <td>195398.0</td>\n",
       "      <td>195398.0</td>\n",
       "      <td>195398.0</td>\n",
       "      <td>195398.000000</td>\n",
       "      <td>195398.000000</td>\n",
       "      <td>1.953980e+05</td>\n",
       "      <td>195398.000000</td>\n",
       "      <td>195398.000000</td>\n",
       "      <td>195398.000000</td>\n",
       "      <td>1.953980e+05</td>\n",
       "      <td>...</td>\n",
       "      <td>195398.000000</td>\n",
       "      <td>195398.000000</td>\n",
       "      <td>195398.000000</td>\n",
       "      <td>195398.000000</td>\n",
       "      <td>195398.000000</td>\n",
       "      <td>195398.000000</td>\n",
       "      <td>195398.000000</td>\n",
       "      <td>195398.000000</td>\n",
       "      <td>195398.000000</td>\n",
       "      <td>195398.000000</td>\n",
       "    </tr>\n",
       "    <tr>\n",
       "      <th>mean</th>\n",
       "      <td>2017.0</td>\n",
       "      <td>1.0</td>\n",
       "      <td>1.0</td>\n",
       "      <td>14.908019</td>\n",
       "      <td>3.888279</td>\n",
       "      <td>2.017011e+07</td>\n",
       "      <td>19916.178722</td>\n",
       "      <td>2052.984749</td>\n",
       "      <td>12741.414339</td>\n",
       "      <td>1.274144e+06</td>\n",
       "      <td>...</td>\n",
       "      <td>151.186015</td>\n",
       "      <td>146.309404</td>\n",
       "      <td>20.438311</td>\n",
       "      <td>20.252449</td>\n",
       "      <td>152.772838</td>\n",
       "      <td>148.507610</td>\n",
       "      <td>20.264138</td>\n",
       "      <td>20.066761</td>\n",
       "      <td>8.347051</td>\n",
       "      <td>10.153006</td>\n",
       "    </tr>\n",
       "    <tr>\n",
       "      <th>std</th>\n",
       "      <td>0.0</td>\n",
       "      <td>0.0</td>\n",
       "      <td>0.0</td>\n",
       "      <td>8.893236</td>\n",
       "      <td>2.077276</td>\n",
       "      <td>8.893236e+00</td>\n",
       "      <td>388.719304</td>\n",
       "      <td>1770.954609</td>\n",
       "      <td>1523.936548</td>\n",
       "      <td>1.523934e+05</td>\n",
       "      <td>...</td>\n",
       "      <td>82.286669</td>\n",
       "      <td>84.051748</td>\n",
       "      <td>15.446342</td>\n",
       "      <td>15.413726</td>\n",
       "      <td>81.897618</td>\n",
       "      <td>83.353483</td>\n",
       "      <td>15.458631</td>\n",
       "      <td>15.416283</td>\n",
       "      <td>4.707543</td>\n",
       "      <td>4.843658</td>\n",
       "    </tr>\n",
       "    <tr>\n",
       "      <th>min</th>\n",
       "      <td>2017.0</td>\n",
       "      <td>1.0</td>\n",
       "      <td>1.0</td>\n",
       "      <td>1.000000</td>\n",
       "      <td>1.000000</td>\n",
       "      <td>2.017010e+07</td>\n",
       "      <td>19393.000000</td>\n",
       "      <td>1.000000</td>\n",
       "      <td>10135.000000</td>\n",
       "      <td>1.013503e+06</td>\n",
       "      <td>...</td>\n",
       "      <td>0.000000</td>\n",
       "      <td>0.000000</td>\n",
       "      <td>0.000000</td>\n",
       "      <td>0.000000</td>\n",
       "      <td>0.000000</td>\n",
       "      <td>0.000000</td>\n",
       "      <td>0.000000</td>\n",
       "      <td>0.000000</td>\n",
       "      <td>0.000000</td>\n",
       "      <td>0.000000</td>\n",
       "    </tr>\n",
       "    <tr>\n",
       "      <th>25%</th>\n",
       "      <td>2017.0</td>\n",
       "      <td>1.0</td>\n",
       "      <td>1.0</td>\n",
       "      <td>6.000000</td>\n",
       "      <td>2.000000</td>\n",
       "      <td>2.017011e+07</td>\n",
       "      <td>19790.000000</td>\n",
       "      <td>591.000000</td>\n",
       "      <td>11292.000000</td>\n",
       "      <td>1.129202e+06</td>\n",
       "      <td>...</td>\n",
       "      <td>75.000000</td>\n",
       "      <td>68.000000</td>\n",
       "      <td>7.000000</td>\n",
       "      <td>7.000000</td>\n",
       "      <td>75.000000</td>\n",
       "      <td>69.000000</td>\n",
       "      <td>6.000000</td>\n",
       "      <td>6.000000</td>\n",
       "      <td>4.000000</td>\n",
       "      <td>6.000000</td>\n",
       "    </tr>\n",
       "    <tr>\n",
       "      <th>50%</th>\n",
       "      <td>2017.0</td>\n",
       "      <td>1.0</td>\n",
       "      <td>1.0</td>\n",
       "      <td>15.000000</td>\n",
       "      <td>4.000000</td>\n",
       "      <td>2.017012e+07</td>\n",
       "      <td>19805.000000</td>\n",
       "      <td>1525.000000</td>\n",
       "      <td>12892.000000</td>\n",
       "      <td>1.289204e+06</td>\n",
       "      <td>...</td>\n",
       "      <td>160.000000</td>\n",
       "      <td>165.000000</td>\n",
       "      <td>17.000000</td>\n",
       "      <td>18.000000</td>\n",
       "      <td>160.000000</td>\n",
       "      <td>167.000000</td>\n",
       "      <td>16.000000</td>\n",
       "      <td>16.000000</td>\n",
       "      <td>8.000000</td>\n",
       "      <td>11.000000</td>\n",
       "    </tr>\n",
       "    <tr>\n",
       "      <th>75%</th>\n",
       "      <td>2017.0</td>\n",
       "      <td>1.0</td>\n",
       "      <td>1.0</td>\n",
       "      <td>22.000000</td>\n",
       "      <td>6.000000</td>\n",
       "      <td>2.017012e+07</td>\n",
       "      <td>20304.000000</td>\n",
       "      <td>3113.000000</td>\n",
       "      <td>14057.000000</td>\n",
       "      <td>1.405702e+06</td>\n",
       "      <td>...</td>\n",
       "      <td>218.000000</td>\n",
       "      <td>220.000000</td>\n",
       "      <td>33.000000</td>\n",
       "      <td>33.000000</td>\n",
       "      <td>221.000000</td>\n",
       "      <td>219.000000</td>\n",
       "      <td>33.000000</td>\n",
       "      <td>33.000000</td>\n",
       "      <td>12.000000</td>\n",
       "      <td>14.000000</td>\n",
       "    </tr>\n",
       "    <tr>\n",
       "      <th>max</th>\n",
       "      <td>2017.0</td>\n",
       "      <td>1.0</td>\n",
       "      <td>1.0</td>\n",
       "      <td>31.000000</td>\n",
       "      <td>7.000000</td>\n",
       "      <td>2.017013e+07</td>\n",
       "      <td>21171.000000</td>\n",
       "      <td>7439.000000</td>\n",
       "      <td>16218.000000</td>\n",
       "      <td>1.621801e+06</td>\n",
       "      <td>...</td>\n",
       "      <td>296.000000</td>\n",
       "      <td>292.000000</td>\n",
       "      <td>51.000000</td>\n",
       "      <td>51.000000</td>\n",
       "      <td>295.000000</td>\n",
       "      <td>291.000000</td>\n",
       "      <td>51.000000</td>\n",
       "      <td>51.000000</td>\n",
       "      <td>18.000000</td>\n",
       "      <td>18.000000</td>\n",
       "    </tr>\n",
       "  </tbody>\n",
       "</table>\n",
       "<p>8 rows × 48 columns</p>\n",
       "</div>"
      ],
      "text/plain": [
       "           Year   Quarter     Month     DayofMonth      DayOfWeek  \\\n",
       "count  195398.0  195398.0  195398.0  195398.000000  195398.000000   \n",
       "mean     2017.0       1.0       1.0      14.908019       3.888279   \n",
       "std         0.0       0.0       0.0       8.893236       2.077276   \n",
       "min      2017.0       1.0       1.0       1.000000       1.000000   \n",
       "25%      2017.0       1.0       1.0       6.000000       2.000000   \n",
       "50%      2017.0       1.0       1.0      15.000000       4.000000   \n",
       "75%      2017.0       1.0       1.0      22.000000       6.000000   \n",
       "max      2017.0       1.0       1.0      31.000000       7.000000   \n",
       "\n",
       "         FlightDate      AirlineID      FlightNum  OriginAirportID  \\\n",
       "count  1.953980e+05  195398.000000  195398.000000    195398.000000   \n",
       "mean   2.017011e+07   19916.178722    2052.984749     12741.414339   \n",
       "std    8.893236e+00     388.719304    1770.954609      1523.936548   \n",
       "min    2.017010e+07   19393.000000       1.000000     10135.000000   \n",
       "25%    2.017011e+07   19790.000000     591.000000     11292.000000   \n",
       "50%    2.017012e+07   19805.000000    1525.000000     12892.000000   \n",
       "75%    2.017012e+07   20304.000000    3113.000000     14057.000000   \n",
       "max    2.017013e+07   21171.000000    7439.000000     16218.000000   \n",
       "\n",
       "       OriginAirportSeqID  ...   Origin_Point  Origin_CityName   Origin_State  \\\n",
       "count        1.953980e+05  ...  195398.000000    195398.000000  195398.000000   \n",
       "mean         1.274144e+06  ...     151.186015       146.309404      20.438311   \n",
       "std          1.523934e+05  ...      82.286669        84.051748      15.446342   \n",
       "min          1.013503e+06  ...       0.000000         0.000000       0.000000   \n",
       "25%          1.129202e+06  ...      75.000000        68.000000       7.000000   \n",
       "50%          1.289204e+06  ...     160.000000       165.000000      17.000000   \n",
       "75%          1.405702e+06  ...     218.000000       220.000000      33.000000   \n",
       "max          1.621801e+06  ...     296.000000       292.000000      51.000000   \n",
       "\n",
       "       OriginState_Name    Destination  Dest_CityName     Dest_State  \\\n",
       "count     195398.000000  195398.000000  195398.000000  195398.000000   \n",
       "mean          20.252449     152.772838     148.507610      20.264138   \n",
       "std           15.413726      81.897618      83.353483      15.458631   \n",
       "min            0.000000       0.000000       0.000000       0.000000   \n",
       "25%            7.000000      75.000000      69.000000       6.000000   \n",
       "50%           18.000000     160.000000     167.000000      16.000000   \n",
       "75%           33.000000     221.000000     219.000000      33.000000   \n",
       "max           51.000000     295.000000     291.000000      51.000000   \n",
       "\n",
       "       Dest_StateName    DepTime_Blk    ArrTime_Blk  \n",
       "count   195398.000000  195398.000000  195398.000000  \n",
       "mean        20.066761       8.347051      10.153006  \n",
       "std         15.416283       4.707543       4.843658  \n",
       "min          0.000000       0.000000       0.000000  \n",
       "25%          6.000000       4.000000       6.000000  \n",
       "50%         16.000000       8.000000      11.000000  \n",
       "75%         33.000000      12.000000      14.000000  \n",
       "max         51.000000      18.000000      18.000000  \n",
       "\n",
       "[8 rows x 48 columns]"
      ]
     },
     "execution_count": 21,
     "metadata": {},
     "output_type": "execute_result"
    }
   ],
   "source": [
    "#Data set up as predictors and target\n",
    "rfDataOriginal = pd.DataFrame(data)\n",
    "Delay_YesNo = rfDataOriginal['ArrDel15']\n",
    "rfDataOriginal.drop(['ArrDel15'], axis=1, inplace=True)#Removing target variable\n",
    "print('Dimension reduced to:')\n",
    "print(len(rfDataOriginal.columns))\n",
    "data.describe()"
   ]
  },
  {
   "cell_type": "markdown",
   "metadata": {},
   "source": [
    "###### Check for multi-collinearity of variables"
   ]
  },
  {
   "cell_type": "code",
   "execution_count": 22,
   "metadata": {
    "collapsed": false,
    "jupyter": {
     "outputs_hidden": false
    }
   },
   "outputs": [
    {
     "data": {
      "image/png": "[encoded data removed]",
      "text/plain": [
       "<Figure size 480x480 with 1 Axes>"
      ]
     },
     "metadata": {},
     "output_type": "display_data"
    }
   ],
   "source": [
    "plt.matshow(rfDataOriginal.corr())\n",
    "plt.title('Correlation matrix for MULTI-COLLINEAR data')\n",
    "corr = rfDataOriginal.corr()\n",
    "#corr"
   ]
  },
  {
   "cell_type": "markdown",
   "metadata": {},
   "source": [
    "Note: Darker cells indicate high collinearity"
   ]
  },
  {
   "cell_type": "code",
   "execution_count": 23,
   "metadata": {
    "collapsed": false,
    "jupyter": {
     "outputs_hidden": false
    },
    "scrolled": true
   },
   "outputs": [
    {
     "data": {
      "text/plain": [
       "[('DayofMonth', 'FlightDate'),\n",
       " ('OriginAirportID', 'OriginAirportSeqID'),\n",
       " ('OriginAirportID', 'Origin_Point'),\n",
       " ('OriginAirportSeqID', 'Origin_Point'),\n",
       " ('OriginStateFips', 'Origin_State'),\n",
       " ('OriginStateFips', 'OriginState_Name'),\n",
       " ('DestAirportID', 'DestAirportSeqID'),\n",
       " ('DestAirportID', 'Destination'),\n",
       " ('DestAirportSeqID', 'Destination'),\n",
       " ('DestStateFips', 'Dest_State'),\n",
       " ('DestStateFips', 'Dest_StateName'),\n",
       " ('CRSDepTime', 'DepTime'),\n",
       " ('CRSDepTime', 'WheelsOff'),\n",
       " ('CRSDepTime', 'DepTime_Blk'),\n",
       " ('DepTime', 'WheelsOff'),\n",
       " ('DepTime', 'DepTime_Blk'),\n",
       " ('WheelsOff', 'DepTime_Blk'),\n",
       " ('WheelsOn', 'ArrTime'),\n",
       " ('CRSArrTime', 'ArrTime_Blk'),\n",
       " ('CRSElapsedTime', 'ActualElapsedTime'),\n",
       " ('CRSElapsedTime', 'AirTime'),\n",
       " ('CRSElapsedTime', 'Distance'),\n",
       " ('CRSElapsedTime', 'DistanceGroup'),\n",
       " ('ActualElapsedTime', 'AirTime'),\n",
       " ('ActualElapsedTime', 'Distance'),\n",
       " ('ActualElapsedTime', 'DistanceGroup'),\n",
       " ('AirTime', 'Distance'),\n",
       " ('AirTime', 'DistanceGroup'),\n",
       " ('Distance', 'DistanceGroup'),\n",
       " ('Unique_Carrier', 'Carrier_Name'),\n",
       " ('Origin_State', 'OriginState_Name'),\n",
       " ('Dest_State', 'Dest_StateName')]"
      ]
     },
     "execution_count": 23,
     "metadata": {},
     "output_type": "execute_result"
    }
   ],
   "source": [
    "corr = rfDataOriginal.corr()#Lists all pairs of highly collinear variables\n",
    "indices = np.where(corr > 0.8)\n",
    "indices = [(corr.columns[x], corr.columns[y]) for x, y in zip(*indices)\n",
    "                                        if x != y and x < y]\n",
    "indices"
   ]
  },
  {
   "cell_type": "markdown",
   "metadata": {},
   "source": [
    "###### Removal of only redundant columns\n",
    "Note: Collinearity is not the main consideration here(Part 3 deals with it)"
   ]
  },
  {
   "cell_type": "code",
   "execution_count": 24,
   "metadata": {
    "collapsed": true,
    "jupyter": {
     "outputs_hidden": true
    }
   },
   "outputs": [],
   "source": [
    "#Subsetting to remove redundant variables using results from above cell for quick filtering\n",
    "rfDataOriginal.drop(['OriginAirportSeqID','OriginCityMarketID', 'OriginStateFips', 'OriginWac', \n",
    "                     'DestAirportSeqID', 'DestCityMarketID', 'DestStateFips', 'DestWac',\n",
    "                     'CRSDepTime', 'CRSElapsedTime', 'CRSArrTime','Carrier_Name', \n",
    "                     'Origin_Point', 'Origin_CityName', 'Origin_State', 'OriginState_Name', \n",
    "                     'Destination', 'Dest_CityName', 'Dest_State', 'Dest_StateName'], axis=1, inplace=True)"
   ]
  },
  {
   "cell_type": "code",
   "execution_count": 25,
   "metadata": {
    "collapsed": false,
    "jupyter": {
     "outputs_hidden": false
    },
    "scrolled": true
   },
   "outputs": [
    {
     "name": "stdout",
     "output_type": "stream",
     "text": [
      "Dimension finally reduced to:\n",
      "27\n"
     ]
    },
    {
     "data": {
      "text/plain": [
       "['Year',\n",
       " 'Quarter',\n",
       " 'Month',\n",
       " 'DayofMonth',\n",
       " 'DayOfWeek',\n",
       " 'FlightDate',\n",
       " 'AirlineID',\n",
       " 'FlightNum',\n",
       " 'OriginAirportID',\n",
       " 'DestAirportID',\n",
       " 'DepTime',\n",
       " 'TaxiOut',\n",
       " 'WheelsOff',\n",
       " 'WheelsOn',\n",
       " 'TaxiIn',\n",
       " 'ArrTime',\n",
       " 'Cancelled',\n",
       " 'Diverted',\n",
       " 'ActualElapsedTime',\n",
       " 'AirTime',\n",
       " 'Flights',\n",
       " 'Distance',\n",
       " 'DistanceGroup',\n",
       " 'Unique_Carrier',\n",
       " 'Tail_Number',\n",
       " 'DepTime_Blk',\n",
       " 'ArrTime_Blk']"
      ]
     },
     "execution_count": 25,
     "metadata": {},
     "output_type": "execute_result"
    }
   ],
   "source": [
    "print('Dimension finally reduced to:')\n",
    "print(len(rfDataOriginal.columns))\n",
    "list(rfDataOriginal.columns)"
   ]
  },
  {
   "cell_type": "markdown",
   "metadata": {},
   "source": [
    "### Model building with non-redundant variables"
   ]
  },
  {
   "cell_type": "markdown",
   "metadata": {},
   "source": [
    "###### Train/test split\n",
    "- Train:Test split = 80:20"
   ]
  },
  {
   "cell_type": "code",
   "execution_count": 26,
   "metadata": {
    "collapsed": true,
    "jupyter": {
     "outputs_hidden": true
    }
   },
   "outputs": [],
   "source": [
    "X_train, X_test, Y_train, Y_test = train_test_split(rfDataOriginal, Delay_YesNo, test_size=0.2, random_state=42)"
   ]
  },
  {
   "cell_type": "markdown",
   "metadata": {},
   "source": [
    "###### Grid search\n",
    "Grid search is not performed for all the desired parameter combinations and values due to computational time"
   ]
  },
  {
   "cell_type": "code",
   "execution_count": 27,
   "metadata": {
    "collapsed": false,
    "jupyter": {
     "outputs_hidden": false
    }
   },
   "outputs": [
    {
     "name": "stdout",
     "output_type": "stream",
     "text": [
      "Random forest Grid Search with non-redundant variables took [ 0:03:08.222236 ] seconds.\n"
     ]
    }
   ],
   "source": [
    "startTimeGS = datetime.now()\n",
    "from sklearn.model_selection import GridSearchCV\n",
    "from sklearn.ensemble import RandomForestClassifier\n",
    "\n",
    "rf = RandomForestClassifier()\n",
    "param_grid = {\n",
    "    'n_estimators': [10, 25],\n",
    "    # 'min_samples_split': [2, 4],\n",
    "    # 'min_samples_leaf': [2, 4],\n",
    "    # 'max_features': ['sqrt', 'log2'],\n",
    "    \"criterion\": [\"gini\", \"entropy\"]\n",
    "}\n",
    "\n",
    "grid_rf = GridSearchCV(rf, param_grid, cv=10)\n",
    "grid_rf.fit(X_train, Y_train)\n",
    "bestModel = grid_rf.best_estimator_\n",
    "bestParameters = grid_rf.best_params_\n",
    "gridScores = grid_rf.cv_results_ \n",
    "print('Random forest Grid Search with non-redundant variables took [', datetime.now() - startTimeGS, '] seconds.')\n"
   ]
  },
  {
   "cell_type": "markdown",
   "metadata": {},
   "source": [
    "###### Best model, corresponding parameters and CV results\n",
    "Used for model selection in next step"
   ]
  },
  {
   "cell_type": "code",
   "execution_count": 28,
   "metadata": {
    "collapsed": false,
    "jupyter": {
     "outputs_hidden": false
    }
   },
   "outputs": [
    {
     "name": "stdout",
     "output_type": "stream",
     "text": [
      "RandomForestClassifier(criterion='entropy', n_estimators=25)\n",
      "{'criterion': 'entropy', 'n_estimators': 25}\n"
     ]
    },
    {
     "data": {
      "text/plain": [
       "{'mean_fit_time': array([2.50874717, 6.06835485, 2.6702198 , 6.64705491]),\n",
       " 'std_fit_time': array([0.0629447 , 0.03995798, 0.02574654, 0.05178375]),\n",
       " 'mean_score_time': array([0.02728691, 0.06357336, 0.02673116, 0.06293652]),\n",
       " 'std_score_time': array([0.0009386 , 0.00053406, 0.00046731, 0.00230909]),\n",
       " 'param_criterion': masked_array(data=['gini', 'gini', 'entropy', 'entropy'],\n",
       "              mask=[False, False, False, False],\n",
       "        fill_value='?',\n",
       "             dtype=object),\n",
       " 'param_n_estimators': masked_array(data=[10, 25, 10, 25],\n",
       "              mask=[False, False, False, False],\n",
       "        fill_value='?',\n",
       "             dtype=object),\n",
       " 'params': [{'criterion': 'gini', 'n_estimators': 10},\n",
       "  {'criterion': 'gini', 'n_estimators': 25},\n",
       "  {'criterion': 'entropy', 'n_estimators': 10},\n",
       "  {'criterion': 'entropy', 'n_estimators': 25}],\n",
       " 'split0_test_score': array([0.89355169, 0.91229529, 0.89611054, 0.91005629]),\n",
       " 'split1_test_score': array([0.89406346, 0.9091607 , 0.89438332, 0.91837257]),\n",
       " 'split2_test_score': array([0.89655834, 0.9165174 , 0.89994882, 0.91587769]),\n",
       " 'split3_test_score': array([0.89860542, 0.91491812, 0.90180399, 0.92073951]),\n",
       " 'split4_test_score': array([0.89700614, 0.9147262 , 0.89700614, 0.92061157]),\n",
       " 'split5_test_score': array([0.8964304 , 0.91152764, 0.90301945, 0.91722108]),\n",
       " 'split6_test_score': array([0.90026868, 0.91415046, 0.897326  , 0.91491812]),\n",
       " 'split7_test_score': array([0.90506653, 0.91485415, 0.90301945, 0.91856448]),\n",
       " 'split8_test_score': array([0.89815111, 0.91369714, 0.89872689, 0.91382509]),\n",
       " 'split9_test_score': array([0.89917472, 0.91708784, 0.90039025, 0.91747169]),\n",
       " 'mean_test_score': array([0.89788765, 0.91389349, 0.89917348, 0.91676581]),\n",
       " 'std_test_score': array([0.00312313, 0.00224522, 0.00281463, 0.00308173]),\n",
       " 'rank_test_score': array([4, 2, 3, 1], dtype=int32)}"
      ]
     },
     "execution_count": 28,
     "metadata": {},
     "output_type": "execute_result"
    }
   ],
   "source": [
    "print(bestModel)\n",
    "print(bestParameters)\n",
    "gridScores"
   ]
  },
  {
   "cell_type": "markdown",
   "metadata": {},
   "source": [
    "###### Model selection\n",
    "- Best model and parameters from above are used to train the final model on entire training set\n",
    "- 10-fold Cross validation is performed to find the overall error"
   ]
  },
  {
   "cell_type": "code",
   "execution_count": 29,
   "metadata": {
    "collapsed": false,
    "jupyter": {
     "outputs_hidden": false
    }
   },
   "outputs": [
    {
     "name": "stdout",
     "output_type": "stream",
     "text": [
      "Mean cross-validation score is: 0.9156654902859165\n",
      "Random forest training and testing with non-redundant variables took [ 0:01:14.649133 ] seconds.\n"
     ]
    }
   ],
   "source": [
    "startTimeRF = datetime.now()\n",
    "rf = RandomForestClassifier(n_estimators=bestParameters.get('n_estimators'),\n",
    "#                            min_samples_split=bestParameters.get('min_samples_split'),\n",
    "#                           min_samples_leaf=bestParameters.get('min_samples_leaf'),\n",
    "#                           max_features=bestParameters.get('max_features'),\n",
    "                           criterion=bestParameters.get('criterion'))\n",
    "\n",
    "cv = KFold(n_splits=10, shuffle=True, random_state=2)\n",
    "cvScores = cross_val_score(rf, X_train, Y_train, cv=cv)\n",
    "print('Mean cross-validation score is: ' + str(np.mean(cvScores)))\n",
    "rf.fit(X_train, Y_train)\n",
    "print('Random forest training and testing with non-redundant variables took [',\n",
    "      datetime.now() - startTimeRF, '] seconds.')\n"
   ]
  },
  {
   "cell_type": "markdown",
   "metadata": {},
   "source": [
    "###### Performance evaluation\n",
    "- Prediction is done on the hold out test set to evaluate performance\n",
    "- Confusion matrix, Accuracy and Recall are computed\n",
    "- ROC curve is also plotted to pictorically depict 'Area under curve (AUC)' as 'Accuracy' "
   ]
  },
  {
   "cell_type": "code",
   "execution_count": 30,
   "metadata": {
    "collapsed": false,
    "jupyter": {
     "outputs_hidden": false
    }
   },
   "outputs": [
    {
     "name": "stdout",
     "output_type": "stream",
     "text": [
      "Accuracy: 91.46%\n",
      "Recall: 88.97%\n",
      "Confusion matrix:\n",
      "[[18304  1177]\n",
      " [ 2161 17438]]\n",
      "Area under the ROC curve: 0.08533928530734045\n"
     ]
    },
    {
     "data": {
      "image/png": "[encoded data removed]",
      "text/plain": [
       "<Figure size 640x480 with 1 Axes>"
      ]
     },
     "metadata": {},
     "output_type": "display_data"
    },
    {
     "data": {
      "image/png": "[encoded data removed]",
      "text/plain": [
       "<Figure size 640x480 with 2 Axes>"
      ]
     },
     "metadata": {},
     "output_type": "display_data"
    }
   ],
   "source": [
    "Y_rf_pred = rf.predict(X_test)\n",
    "\n",
    "labels = [0, 1]\n",
    "cm = confusion_matrix(Y_test, Y_rf_pred, labels=labels)\n",
    "\n",
    "print('Accuracy: ' + str(np.round(100*float(cm[0][0]+cm[1][1])/float((cm[0][0]+cm[1][1] + cm[1][0] + cm[0][1])),2))+'%')\n",
    "print('Recall: ' + str(np.round(100*float((cm[1][1]))/float((cm[1][0]+cm[1][1])),2))+'%')\n",
    "print('Confusion matrix:')\n",
    "print(cm)\n",
    "\n",
    "fpr, tpr, _ = roc_curve(Y_test, Y_rf_pred)\n",
    "auc = np.trapz(fpr, tpr)\n",
    "print('Area under the ROC curve: ' + str(auc))\n",
    "\n",
    "fig = plt.figure(1)\n",
    "plt.plot(fpr, tpr, color='green')\n",
    "plt.xlabel('False positive rate (FPR)')\n",
    "plt.ylabel('True positive rate (TPR)')\n",
    "plt.title('Receiver operating characteristic (ROC)')\n",
    "\n",
    "fig = plt.figure(2)\n",
    "ax = fig.add_subplot(111)\n",
    "cax = ax.matshow(cm)\n",
    "plt.title('Confusion matrix for Random Forest classifier with original data')\n",
    "fig.colorbar(cax)\n",
    "ax.set_xticklabels([''] + labels)\n",
    "ax.set_yticklabels([''] + labels)\n",
    "plt.xlabel('Predicted')\n",
    "plt.ylabel('True')\n",
    "plt.show()"
   ]
  },
  {
   "cell_type": "markdown",
   "metadata": {},
   "source": [
    "### Inferences:\n",
    "- High accuracy was obtained when model was first created.\n",
    "- This prompted cross validation with 10-fold in order to be convinced that it wasnt a chance performance\n",
    "- Accuracy improved when more data was added. More data is always better than any sophisticated model!\n",
    "- Inferences from exploratory analysis was critical in doing feature selection and obtaining good performance\n",
    "- E.g. Certain features (DepTimeBlk, Month etc.) with substantial variation were added to improve performance\n",
    "- Handling of class imbalance improved Accuracy and Recall respectively by more than 10% and 15%"
   ]
  },
  {
   "cell_type": "markdown",
   "metadata": {},
   "source": [
    "## PART 3: Model creation with PCA components"
   ]
  },
  {
   "cell_type": "markdown",
   "metadata": {},
   "source": [
    "### Feature Engineering by removing multi-collinear variables"
   ]
  },
  {
   "cell_type": "code",
   "execution_count": null,
   "metadata": {},
   "outputs": [],
   "source": []
  },
  {
   "cell_type": "markdown",
   "metadata": {},
   "source": [
    "###### Removal of redundant and highly collinear variables from dataset\n",
    "Highly collinear variables are removed before PCA as they amplify their correlation through the common underlying factor and distort PCA results"
   ]
  },
  {
   "cell_type": "code",
   "execution_count": 31,
   "metadata": {
    "collapsed": false,
    "jupyter": {
     "outputs_hidden": false
    }
   },
   "outputs": [
    {
     "name": "stdout",
     "output_type": "stream",
     "text": [
      "Dimension reduced to:\n",
      "28\n"
     ]
    },
    {
     "data": {
      "text/html": [
       "<div>\n",
       "<style scoped>\n",
       "    .dataframe tbody tr th:only-of-type {\n",
       "        vertical-align: middle;\n",
       "    }\n",
       "\n",
       "    .dataframe tbody tr th {\n",
       "        vertical-align: top;\n",
       "    }\n",
       "\n",
       "    .dataframe thead th {\n",
       "        text-align: right;\n",
       "    }\n",
       "</style>\n",
       "<table border=\"1\" class=\"dataframe\">\n",
       "  <thead>\n",
       "    <tr style=\"text-align: right;\">\n",
       "      <th></th>\n",
       "      <th>Year</th>\n",
       "      <th>Quarter</th>\n",
       "      <th>Month</th>\n",
       "      <th>DayofMonth</th>\n",
       "      <th>DayOfWeek</th>\n",
       "      <th>FlightDate</th>\n",
       "      <th>AirlineID</th>\n",
       "      <th>FlightNum</th>\n",
       "      <th>OriginAirportID</th>\n",
       "      <th>DestAirportID</th>\n",
       "      <th>...</th>\n",
       "      <th>Diverted</th>\n",
       "      <th>ActualElapsedTime</th>\n",
       "      <th>AirTime</th>\n",
       "      <th>Flights</th>\n",
       "      <th>Distance</th>\n",
       "      <th>DistanceGroup</th>\n",
       "      <th>Unique_Carrier</th>\n",
       "      <th>Tail_Number</th>\n",
       "      <th>DepTime_Blk</th>\n",
       "      <th>ArrTime_Blk</th>\n",
       "    </tr>\n",
       "  </thead>\n",
       "  <tbody>\n",
       "    <tr>\n",
       "      <th>count</th>\n",
       "      <td>195398.0</td>\n",
       "      <td>195398.0</td>\n",
       "      <td>195398.0</td>\n",
       "      <td>195398.000000</td>\n",
       "      <td>195398.000000</td>\n",
       "      <td>1.953980e+05</td>\n",
       "      <td>195398.000000</td>\n",
       "      <td>195398.000000</td>\n",
       "      <td>195398.000000</td>\n",
       "      <td>195398.000000</td>\n",
       "      <td>...</td>\n",
       "      <td>195398.0</td>\n",
       "      <td>195398.000000</td>\n",
       "      <td>195398.000000</td>\n",
       "      <td>195398.0</td>\n",
       "      <td>195398.000000</td>\n",
       "      <td>195398.000000</td>\n",
       "      <td>195398.000000</td>\n",
       "      <td>195398.000000</td>\n",
       "      <td>195398.000000</td>\n",
       "      <td>195398.000000</td>\n",
       "    </tr>\n",
       "    <tr>\n",
       "      <th>mean</th>\n",
       "      <td>2017.0</td>\n",
       "      <td>1.0</td>\n",
       "      <td>1.0</td>\n",
       "      <td>14.908019</td>\n",
       "      <td>3.888279</td>\n",
       "      <td>2.017011e+07</td>\n",
       "      <td>19916.178722</td>\n",
       "      <td>2052.984749</td>\n",
       "      <td>12741.414339</td>\n",
       "      <td>12775.120866</td>\n",
       "      <td>...</td>\n",
       "      <td>0.0</td>\n",
       "      <td>151.548470</td>\n",
       "      <td>124.365439</td>\n",
       "      <td>1.0</td>\n",
       "      <td>892.067421</td>\n",
       "      <td>4.033163</td>\n",
       "      <td>5.919687</td>\n",
       "      <td>2268.751277</td>\n",
       "      <td>8.347051</td>\n",
       "      <td>10.153006</td>\n",
       "    </tr>\n",
       "    <tr>\n",
       "      <th>std</th>\n",
       "      <td>0.0</td>\n",
       "      <td>0.0</td>\n",
       "      <td>0.0</td>\n",
       "      <td>8.893236</td>\n",
       "      <td>2.077276</td>\n",
       "      <td>8.893236e+00</td>\n",
       "      <td>388.719304</td>\n",
       "      <td>1770.954609</td>\n",
       "      <td>1523.936548</td>\n",
       "      <td>1523.409660</td>\n",
       "      <td>...</td>\n",
       "      <td>0.0</td>\n",
       "      <td>81.881579</td>\n",
       "      <td>79.344836</td>\n",
       "      <td>0.0</td>\n",
       "      <td>645.994850</td>\n",
       "      <td>2.517332</td>\n",
       "      <td>4.030049</td>\n",
       "      <td>1279.525163</td>\n",
       "      <td>4.707543</td>\n",
       "      <td>4.843658</td>\n",
       "    </tr>\n",
       "    <tr>\n",
       "      <th>min</th>\n",
       "      <td>2017.0</td>\n",
       "      <td>1.0</td>\n",
       "      <td>1.0</td>\n",
       "      <td>1.000000</td>\n",
       "      <td>1.000000</td>\n",
       "      <td>2.017010e+07</td>\n",
       "      <td>19393.000000</td>\n",
       "      <td>1.000000</td>\n",
       "      <td>10135.000000</td>\n",
       "      <td>10135.000000</td>\n",
       "      <td>...</td>\n",
       "      <td>0.0</td>\n",
       "      <td>16.000000</td>\n",
       "      <td>7.000000</td>\n",
       "      <td>1.0</td>\n",
       "      <td>31.000000</td>\n",
       "      <td>1.000000</td>\n",
       "      <td>0.000000</td>\n",
       "      <td>0.000000</td>\n",
       "      <td>0.000000</td>\n",
       "      <td>0.000000</td>\n",
       "    </tr>\n",
       "    <tr>\n",
       "      <th>25%</th>\n",
       "      <td>2017.0</td>\n",
       "      <td>1.0</td>\n",
       "      <td>1.0</td>\n",
       "      <td>6.000000</td>\n",
       "      <td>2.000000</td>\n",
       "      <td>2.017011e+07</td>\n",
       "      <td>19790.000000</td>\n",
       "      <td>591.000000</td>\n",
       "      <td>11292.000000</td>\n",
       "      <td>11292.000000</td>\n",
       "      <td>...</td>\n",
       "      <td>0.0</td>\n",
       "      <td>91.000000</td>\n",
       "      <td>65.000000</td>\n",
       "      <td>1.0</td>\n",
       "      <td>404.000000</td>\n",
       "      <td>2.000000</td>\n",
       "      <td>3.000000</td>\n",
       "      <td>1189.000000</td>\n",
       "      <td>4.000000</td>\n",
       "      <td>6.000000</td>\n",
       "    </tr>\n",
       "    <tr>\n",
       "      <th>50%</th>\n",
       "      <td>2017.0</td>\n",
       "      <td>1.0</td>\n",
       "      <td>1.0</td>\n",
       "      <td>15.000000</td>\n",
       "      <td>4.000000</td>\n",
       "      <td>2.017012e+07</td>\n",
       "      <td>19805.000000</td>\n",
       "      <td>1525.000000</td>\n",
       "      <td>12892.000000</td>\n",
       "      <td>12892.000000</td>\n",
       "      <td>...</td>\n",
       "      <td>0.0</td>\n",
       "      <td>132.000000</td>\n",
       "      <td>105.000000</td>\n",
       "      <td>1.0</td>\n",
       "      <td>731.000000</td>\n",
       "      <td>3.000000</td>\n",
       "      <td>7.000000</td>\n",
       "      <td>2293.000000</td>\n",
       "      <td>8.000000</td>\n",
       "      <td>11.000000</td>\n",
       "    </tr>\n",
       "    <tr>\n",
       "      <th>75%</th>\n",
       "      <td>2017.0</td>\n",
       "      <td>1.0</td>\n",
       "      <td>1.0</td>\n",
       "      <td>22.000000</td>\n",
       "      <td>6.000000</td>\n",
       "      <td>2.017012e+07</td>\n",
       "      <td>20304.000000</td>\n",
       "      <td>3113.000000</td>\n",
       "      <td>14057.000000</td>\n",
       "      <td>14100.000000</td>\n",
       "      <td>...</td>\n",
       "      <td>0.0</td>\n",
       "      <td>186.000000</td>\n",
       "      <td>156.000000</td>\n",
       "      <td>1.0</td>\n",
       "      <td>1139.000000</td>\n",
       "      <td>5.000000</td>\n",
       "      <td>9.000000</td>\n",
       "      <td>3405.000000</td>\n",
       "      <td>12.000000</td>\n",
       "      <td>14.000000</td>\n",
       "    </tr>\n",
       "    <tr>\n",
       "      <th>max</th>\n",
       "      <td>2017.0</td>\n",
       "      <td>1.0</td>\n",
       "      <td>1.0</td>\n",
       "      <td>31.000000</td>\n",
       "      <td>7.000000</td>\n",
       "      <td>2.017013e+07</td>\n",
       "      <td>21171.000000</td>\n",
       "      <td>7439.000000</td>\n",
       "      <td>16218.000000</td>\n",
       "      <td>16218.000000</td>\n",
       "      <td>...</td>\n",
       "      <td>0.0</td>\n",
       "      <td>734.000000</td>\n",
       "      <td>704.000000</td>\n",
       "      <td>1.0</td>\n",
       "      <td>4983.000000</td>\n",
       "      <td>11.000000</td>\n",
       "      <td>11.000000</td>\n",
       "      <td>4359.000000</td>\n",
       "      <td>18.000000</td>\n",
       "      <td>18.000000</td>\n",
       "    </tr>\n",
       "  </tbody>\n",
       "</table>\n",
       "<p>8 rows × 28 columns</p>\n",
       "</div>"
      ],
      "text/plain": [
       "           Year   Quarter     Month     DayofMonth      DayOfWeek  \\\n",
       "count  195398.0  195398.0  195398.0  195398.000000  195398.000000   \n",
       "mean     2017.0       1.0       1.0      14.908019       3.888279   \n",
       "std         0.0       0.0       0.0       8.893236       2.077276   \n",
       "min      2017.0       1.0       1.0       1.000000       1.000000   \n",
       "25%      2017.0       1.0       1.0       6.000000       2.000000   \n",
       "50%      2017.0       1.0       1.0      15.000000       4.000000   \n",
       "75%      2017.0       1.0       1.0      22.000000       6.000000   \n",
       "max      2017.0       1.0       1.0      31.000000       7.000000   \n",
       "\n",
       "         FlightDate      AirlineID      FlightNum  OriginAirportID  \\\n",
       "count  1.953980e+05  195398.000000  195398.000000    195398.000000   \n",
       "mean   2.017011e+07   19916.178722    2052.984749     12741.414339   \n",
       "std    8.893236e+00     388.719304    1770.954609      1523.936548   \n",
       "min    2.017010e+07   19393.000000       1.000000     10135.000000   \n",
       "25%    2.017011e+07   19790.000000     591.000000     11292.000000   \n",
       "50%    2.017012e+07   19805.000000    1525.000000     12892.000000   \n",
       "75%    2.017012e+07   20304.000000    3113.000000     14057.000000   \n",
       "max    2.017013e+07   21171.000000    7439.000000     16218.000000   \n",
       "\n",
       "       DestAirportID  ...  Diverted  ActualElapsedTime        AirTime  \\\n",
       "count  195398.000000  ...  195398.0      195398.000000  195398.000000   \n",
       "mean    12775.120866  ...       0.0         151.548470     124.365439   \n",
       "std      1523.409660  ...       0.0          81.881579      79.344836   \n",
       "min     10135.000000  ...       0.0          16.000000       7.000000   \n",
       "25%     11292.000000  ...       0.0          91.000000      65.000000   \n",
       "50%     12892.000000  ...       0.0         132.000000     105.000000   \n",
       "75%     14100.000000  ...       0.0         186.000000     156.000000   \n",
       "max     16218.000000  ...       0.0         734.000000     704.000000   \n",
       "\n",
       "        Flights       Distance  DistanceGroup  Unique_Carrier    Tail_Number  \\\n",
       "count  195398.0  195398.000000  195398.000000   195398.000000  195398.000000   \n",
       "mean        1.0     892.067421       4.033163        5.919687    2268.751277   \n",
       "std         0.0     645.994850       2.517332        4.030049    1279.525163   \n",
       "min         1.0      31.000000       1.000000        0.000000       0.000000   \n",
       "25%         1.0     404.000000       2.000000        3.000000    1189.000000   \n",
       "50%         1.0     731.000000       3.000000        7.000000    2293.000000   \n",
       "75%         1.0    1139.000000       5.000000        9.000000    3405.000000   \n",
       "max         1.0    4983.000000      11.000000       11.000000    4359.000000   \n",
       "\n",
       "         DepTime_Blk    ArrTime_Blk  \n",
       "count  195398.000000  195398.000000  \n",
       "mean        8.347051      10.153006  \n",
       "std         4.707543       4.843658  \n",
       "min         0.000000       0.000000  \n",
       "25%         4.000000       6.000000  \n",
       "50%         8.000000      11.000000  \n",
       "75%        12.000000      14.000000  \n",
       "max        18.000000      18.000000  \n",
       "\n",
       "[8 rows x 28 columns]"
      ]
     },
     "execution_count": 31,
     "metadata": {},
     "output_type": "execute_result"
    }
   ],
   "source": [
    "rfDataPCA = pd.DataFrame(data)\n",
    "#Subsetting based on earlier feature selection of variables (derived from correlation)\n",
    "rfDataPCA.drop(['OriginAirportSeqID','OriginCityMarketID', 'OriginStateFips', 'OriginWac', \n",
    "                     'DestAirportSeqID', 'DestCityMarketID', 'DestStateFips', 'DestWac',\n",
    "                     'CRSDepTime', 'CRSElapsedTime', 'CRSArrTime','Carrier_Name', \n",
    "                     'Origin_Point', 'Origin_CityName', 'Origin_State', 'OriginState_Name', \n",
    "                     'Destination', 'Dest_CityName', 'Dest_State', 'Dest_StateName'], axis=1, inplace=True)\n",
    "print('Dimension reduced to:')\n",
    "print(len(rfDataPCA.columns))\n",
    "list(rfDataPCA.columns)\n",
    "rfDataPCA.describe()"
   ]
  },
  {
   "cell_type": "code",
   "execution_count": 32,
   "metadata": {
    "collapsed": false,
    "jupyter": {
     "outputs_hidden": false
    },
    "scrolled": true
   },
   "outputs": [
    {
     "data": {
      "text/plain": [
       "[('DayofMonth', 'FlightDate'),\n",
       " ('OriginAirportID', 'OriginAirportSeqID'),\n",
       " ('OriginAirportID', 'Origin_Point'),\n",
       " ('OriginAirportID', 'Origin_CityName'),\n",
       " ('OriginAirportSeqID', 'Origin_Point'),\n",
       " ('OriginAirportSeqID', 'Origin_CityName'),\n",
       " ('OriginStateFips', 'Origin_State'),\n",
       " ('OriginStateFips', 'OriginState_Name'),\n",
       " ('DestAirportID', 'DestAirportSeqID'),\n",
       " ('DestAirportID', 'Destination'),\n",
       " ('DestAirportID', 'Dest_CityName'),\n",
       " ('DestAirportSeqID', 'Destination'),\n",
       " ('DestAirportSeqID', 'Dest_CityName'),\n",
       " ('DestStateFips', 'Dest_State'),\n",
       " ('DestStateFips', 'Dest_StateName'),\n",
       " ('CRSDepTime', 'DepTime'),\n",
       " ('CRSDepTime', 'WheelsOff'),\n",
       " ('CRSDepTime', 'DepTime_Blk'),\n",
       " ('CRSDepTime', 'ArrTime_Blk'),\n",
       " ('DepTime', 'WheelsOff'),\n",
       " ('DepTime', 'DepTime_Blk'),\n",
       " ('DepTime', 'ArrTime_Blk'),\n",
       " ('WheelsOff', 'DepTime_Blk'),\n",
       " ('WheelsOff', 'ArrTime_Blk'),\n",
       " ('WheelsOn', 'CRSArrTime'),\n",
       " ('WheelsOn', 'ArrTime'),\n",
       " ('WheelsOn', 'ArrTime_Blk'),\n",
       " ('CRSArrTime', 'ArrTime'),\n",
       " ('CRSArrTime', 'ArrTime_Blk'),\n",
       " ('ArrTime', 'ArrTime_Blk'),\n",
       " ('CRSElapsedTime', 'ActualElapsedTime'),\n",
       " ('CRSElapsedTime', 'AirTime'),\n",
       " ('CRSElapsedTime', 'Distance'),\n",
       " ('CRSElapsedTime', 'DistanceGroup'),\n",
       " ('ActualElapsedTime', 'AirTime'),\n",
       " ('ActualElapsedTime', 'Distance'),\n",
       " ('ActualElapsedTime', 'DistanceGroup'),\n",
       " ('AirTime', 'Distance'),\n",
       " ('AirTime', 'DistanceGroup'),\n",
       " ('Distance', 'DistanceGroup'),\n",
       " ('Unique_Carrier', 'Carrier_Name'),\n",
       " ('Origin_Point', 'Origin_CityName'),\n",
       " ('Origin_State', 'OriginState_Name'),\n",
       " ('Destination', 'Dest_CityName'),\n",
       " ('Dest_State', 'Dest_StateName'),\n",
       " ('DepTime_Blk', 'ArrTime_Blk')]"
      ]
     },
     "execution_count": 32,
     "metadata": {},
     "output_type": "execute_result"
    }
   ],
   "source": [
    "indices = np.where(corr > 0.7)\n",
    "indices = [(corr.columns[x], corr.columns[y]) for x, y in zip(*indices)\n",
    "                                        if x != y and x < y]\n",
    "indices"
   ]
  },
  {
   "cell_type": "code",
   "execution_count": 33,
   "metadata": {
    "collapsed": true,
    "jupyter": {
     "outputs_hidden": true
    }
   },
   "outputs": [],
   "source": [
    "rfDataPCA.drop(['FlightDate','DepTime','DepTime_Blk','ActualElapsedTime','AirTime','DistanceGroup','DepTime_Blk'], \n",
    "          axis=1, inplace=True)#Further reduction of multicollinearity for PCA"
   ]
  },
  {
   "cell_type": "code",
   "execution_count": 34,
   "metadata": {
    "collapsed": false,
    "jupyter": {
     "outputs_hidden": false
    }
   },
   "outputs": [
    {
     "data": {
      "image/png": "[encoded data removed]",
      "text/plain": [
       "<Figure size 480x480 with 1 Axes>"
      ]
     },
     "metadata": {},
     "output_type": "display_data"
    }
   ],
   "source": [
    "#Check for collinearity\n",
    "plt.matshow(rfDataPCA.corr())\n",
    "plt.title('Correlation matrix for NON-COLLINEAR data')\n",
    "corr = rfDataPCA.corr()"
   ]
  },
  {
   "cell_type": "markdown",
   "metadata": {},
   "source": [
    "Note: Darker cells indicate high collinearity. It is seen here only between the variable and itself."
   ]
  },
  {
   "cell_type": "code",
   "execution_count": 35,
   "metadata": {
    "collapsed": false,
    "jupyter": {
     "outputs_hidden": false
    },
    "scrolled": true
   },
   "outputs": [
    {
     "data": {
      "text/plain": [
       "[('WheelsOff', 'ArrTime_Blk'),\n",
       " ('WheelsOn', 'ArrTime'),\n",
       " ('WheelsOn', 'ArrTime_Blk'),\n",
       " ('ArrTime', 'ArrTime_Blk')]"
      ]
     },
     "execution_count": 35,
     "metadata": {},
     "output_type": "execute_result"
    }
   ],
   "source": [
    "indices = np.where(corr > 0.7)\n",
    "indices = [(corr.columns[x], corr.columns[y]) for x, y in zip(*indices)\n",
    "                                        if x != y and x < y]\n",
    "indices"
   ]
  },
  {
   "cell_type": "markdown",
   "metadata": {},
   "source": [
    "###### Data ready for PCA"
   ]
  },
  {
   "cell_type": "code",
   "execution_count": 36,
   "metadata": {
    "collapsed": false,
    "jupyter": {
     "outputs_hidden": false
    }
   },
   "outputs": [
    {
     "name": "stdout",
     "output_type": "stream",
     "text": [
      "Dimension reduced to:\n",
      "22\n"
     ]
    },
    {
     "data": {
      "text/html": [
       "<div>\n",
       "<style scoped>\n",
       "    .dataframe tbody tr th:only-of-type {\n",
       "        vertical-align: middle;\n",
       "    }\n",
       "\n",
       "    .dataframe tbody tr th {\n",
       "        vertical-align: top;\n",
       "    }\n",
       "\n",
       "    .dataframe thead th {\n",
       "        text-align: right;\n",
       "    }\n",
       "</style>\n",
       "<table border=\"1\" class=\"dataframe\">\n",
       "  <thead>\n",
       "    <tr style=\"text-align: right;\">\n",
       "      <th></th>\n",
       "      <th>Year</th>\n",
       "      <th>Quarter</th>\n",
       "      <th>Month</th>\n",
       "      <th>DayofMonth</th>\n",
       "      <th>DayOfWeek</th>\n",
       "      <th>AirlineID</th>\n",
       "      <th>FlightNum</th>\n",
       "      <th>OriginAirportID</th>\n",
       "      <th>DestAirportID</th>\n",
       "      <th>TaxiOut</th>\n",
       "      <th>...</th>\n",
       "      <th>TaxiIn</th>\n",
       "      <th>ArrTime</th>\n",
       "      <th>ArrDel15</th>\n",
       "      <th>Cancelled</th>\n",
       "      <th>Diverted</th>\n",
       "      <th>Flights</th>\n",
       "      <th>Distance</th>\n",
       "      <th>Unique_Carrier</th>\n",
       "      <th>Tail_Number</th>\n",
       "      <th>ArrTime_Blk</th>\n",
       "    </tr>\n",
       "  </thead>\n",
       "  <tbody>\n",
       "    <tr>\n",
       "      <th>count</th>\n",
       "      <td>195398.0</td>\n",
       "      <td>195398.0</td>\n",
       "      <td>195398.0</td>\n",
       "      <td>195398.000000</td>\n",
       "      <td>195398.000000</td>\n",
       "      <td>195398.000000</td>\n",
       "      <td>195398.000000</td>\n",
       "      <td>195398.000000</td>\n",
       "      <td>195398.000000</td>\n",
       "      <td>195398.000000</td>\n",
       "      <td>...</td>\n",
       "      <td>195398.000000</td>\n",
       "      <td>195398.000000</td>\n",
       "      <td>195398.000000</td>\n",
       "      <td>195398.0</td>\n",
       "      <td>195398.0</td>\n",
       "      <td>195398.0</td>\n",
       "      <td>195398.000000</td>\n",
       "      <td>195398.000000</td>\n",
       "      <td>195398.000000</td>\n",
       "      <td>195398.000000</td>\n",
       "    </tr>\n",
       "    <tr>\n",
       "      <th>mean</th>\n",
       "      <td>2017.0</td>\n",
       "      <td>1.0</td>\n",
       "      <td>1.0</td>\n",
       "      <td>14.908019</td>\n",
       "      <td>3.888279</td>\n",
       "      <td>19916.178722</td>\n",
       "      <td>2052.984749</td>\n",
       "      <td>12741.414339</td>\n",
       "      <td>12775.120866</td>\n",
       "      <td>18.921238</td>\n",
       "      <td>...</td>\n",
       "      <td>8.261794</td>\n",
       "      <td>1511.622535</td>\n",
       "      <td>0.500000</td>\n",
       "      <td>0.0</td>\n",
       "      <td>0.0</td>\n",
       "      <td>1.0</td>\n",
       "      <td>892.067421</td>\n",
       "      <td>5.919687</td>\n",
       "      <td>2268.751277</td>\n",
       "      <td>10.153006</td>\n",
       "    </tr>\n",
       "    <tr>\n",
       "      <th>std</th>\n",
       "      <td>0.0</td>\n",
       "      <td>0.0</td>\n",
       "      <td>0.0</td>\n",
       "      <td>8.893236</td>\n",
       "      <td>2.077276</td>\n",
       "      <td>388.719304</td>\n",
       "      <td>1770.954609</td>\n",
       "      <td>1523.936548</td>\n",
       "      <td>1523.409660</td>\n",
       "      <td>12.440744</td>\n",
       "      <td>...</td>\n",
       "      <td>8.169938</td>\n",
       "      <td>552.968047</td>\n",
       "      <td>0.500001</td>\n",
       "      <td>0.0</td>\n",
       "      <td>0.0</td>\n",
       "      <td>0.0</td>\n",
       "      <td>645.994850</td>\n",
       "      <td>4.030049</td>\n",
       "      <td>1279.525163</td>\n",
       "      <td>4.843658</td>\n",
       "    </tr>\n",
       "    <tr>\n",
       "      <th>min</th>\n",
       "      <td>2017.0</td>\n",
       "      <td>1.0</td>\n",
       "      <td>1.0</td>\n",
       "      <td>1.000000</td>\n",
       "      <td>1.000000</td>\n",
       "      <td>19393.000000</td>\n",
       "      <td>1.000000</td>\n",
       "      <td>10135.000000</td>\n",
       "      <td>10135.000000</td>\n",
       "      <td>1.000000</td>\n",
       "      <td>...</td>\n",
       "      <td>1.000000</td>\n",
       "      <td>1.000000</td>\n",
       "      <td>0.000000</td>\n",
       "      <td>0.0</td>\n",
       "      <td>0.0</td>\n",
       "      <td>1.0</td>\n",
       "      <td>31.000000</td>\n",
       "      <td>0.000000</td>\n",
       "      <td>0.000000</td>\n",
       "      <td>0.000000</td>\n",
       "    </tr>\n",
       "    <tr>\n",
       "      <th>25%</th>\n",
       "      <td>2017.0</td>\n",
       "      <td>1.0</td>\n",
       "      <td>1.0</td>\n",
       "      <td>6.000000</td>\n",
       "      <td>2.000000</td>\n",
       "      <td>19790.000000</td>\n",
       "      <td>591.000000</td>\n",
       "      <td>11292.000000</td>\n",
       "      <td>11292.000000</td>\n",
       "      <td>11.000000</td>\n",
       "      <td>...</td>\n",
       "      <td>5.000000</td>\n",
       "      <td>1131.000000</td>\n",
       "      <td>0.000000</td>\n",
       "      <td>0.0</td>\n",
       "      <td>0.0</td>\n",
       "      <td>1.0</td>\n",
       "      <td>404.000000</td>\n",
       "      <td>3.000000</td>\n",
       "      <td>1189.000000</td>\n",
       "      <td>6.000000</td>\n",
       "    </tr>\n",
       "    <tr>\n",
       "      <th>50%</th>\n",
       "      <td>2017.0</td>\n",
       "      <td>1.0</td>\n",
       "      <td>1.0</td>\n",
       "      <td>15.000000</td>\n",
       "      <td>4.000000</td>\n",
       "      <td>19805.000000</td>\n",
       "      <td>1525.000000</td>\n",
       "      <td>12892.000000</td>\n",
       "      <td>12892.000000</td>\n",
       "      <td>15.000000</td>\n",
       "      <td>...</td>\n",
       "      <td>6.000000</td>\n",
       "      <td>1555.000000</td>\n",
       "      <td>0.500000</td>\n",
       "      <td>0.0</td>\n",
       "      <td>0.0</td>\n",
       "      <td>1.0</td>\n",
       "      <td>731.000000</td>\n",
       "      <td>7.000000</td>\n",
       "      <td>2293.000000</td>\n",
       "      <td>11.000000</td>\n",
       "    </tr>\n",
       "    <tr>\n",
       "      <th>75%</th>\n",
       "      <td>2017.0</td>\n",
       "      <td>1.0</td>\n",
       "      <td>1.0</td>\n",
       "      <td>22.000000</td>\n",
       "      <td>6.000000</td>\n",
       "      <td>20304.000000</td>\n",
       "      <td>3113.000000</td>\n",
       "      <td>14057.000000</td>\n",
       "      <td>14100.000000</td>\n",
       "      <td>22.000000</td>\n",
       "      <td>...</td>\n",
       "      <td>9.000000</td>\n",
       "      <td>1947.000000</td>\n",
       "      <td>1.000000</td>\n",
       "      <td>0.0</td>\n",
       "      <td>0.0</td>\n",
       "      <td>1.0</td>\n",
       "      <td>1139.000000</td>\n",
       "      <td>9.000000</td>\n",
       "      <td>3405.000000</td>\n",
       "      <td>14.000000</td>\n",
       "    </tr>\n",
       "    <tr>\n",
       "      <th>max</th>\n",
       "      <td>2017.0</td>\n",
       "      <td>1.0</td>\n",
       "      <td>1.0</td>\n",
       "      <td>31.000000</td>\n",
       "      <td>7.000000</td>\n",
       "      <td>21171.000000</td>\n",
       "      <td>7439.000000</td>\n",
       "      <td>16218.000000</td>\n",
       "      <td>16218.000000</td>\n",
       "      <td>176.000000</td>\n",
       "      <td>...</td>\n",
       "      <td>413.000000</td>\n",
       "      <td>2400.000000</td>\n",
       "      <td>1.000000</td>\n",
       "      <td>0.0</td>\n",
       "      <td>0.0</td>\n",
       "      <td>1.0</td>\n",
       "      <td>4983.000000</td>\n",
       "      <td>11.000000</td>\n",
       "      <td>4359.000000</td>\n",
       "      <td>18.000000</td>\n",
       "    </tr>\n",
       "  </tbody>\n",
       "</table>\n",
       "<p>8 rows × 22 columns</p>\n",
       "</div>"
      ],
      "text/plain": [
       "           Year   Quarter     Month     DayofMonth      DayOfWeek  \\\n",
       "count  195398.0  195398.0  195398.0  195398.000000  195398.000000   \n",
       "mean     2017.0       1.0       1.0      14.908019       3.888279   \n",
       "std         0.0       0.0       0.0       8.893236       2.077276   \n",
       "min      2017.0       1.0       1.0       1.000000       1.000000   \n",
       "25%      2017.0       1.0       1.0       6.000000       2.000000   \n",
       "50%      2017.0       1.0       1.0      15.000000       4.000000   \n",
       "75%      2017.0       1.0       1.0      22.000000       6.000000   \n",
       "max      2017.0       1.0       1.0      31.000000       7.000000   \n",
       "\n",
       "           AirlineID      FlightNum  OriginAirportID  DestAirportID  \\\n",
       "count  195398.000000  195398.000000    195398.000000  195398.000000   \n",
       "mean    19916.178722    2052.984749     12741.414339   12775.120866   \n",
       "std       388.719304    1770.954609      1523.936548    1523.409660   \n",
       "min     19393.000000       1.000000     10135.000000   10135.000000   \n",
       "25%     19790.000000     591.000000     11292.000000   11292.000000   \n",
       "50%     19805.000000    1525.000000     12892.000000   12892.000000   \n",
       "75%     20304.000000    3113.000000     14057.000000   14100.000000   \n",
       "max     21171.000000    7439.000000     16218.000000   16218.000000   \n",
       "\n",
       "             TaxiOut  ...         TaxiIn        ArrTime       ArrDel15  \\\n",
       "count  195398.000000  ...  195398.000000  195398.000000  195398.000000   \n",
       "mean       18.921238  ...       8.261794    1511.622535       0.500000   \n",
       "std        12.440744  ...       8.169938     552.968047       0.500001   \n",
       "min         1.000000  ...       1.000000       1.000000       0.000000   \n",
       "25%        11.000000  ...       5.000000    1131.000000       0.000000   \n",
       "50%        15.000000  ...       6.000000    1555.000000       0.500000   \n",
       "75%        22.000000  ...       9.000000    1947.000000       1.000000   \n",
       "max       176.000000  ...     413.000000    2400.000000       1.000000   \n",
       "\n",
       "       Cancelled  Diverted   Flights       Distance  Unique_Carrier  \\\n",
       "count   195398.0  195398.0  195398.0  195398.000000   195398.000000   \n",
       "mean         0.0       0.0       1.0     892.067421        5.919687   \n",
       "std          0.0       0.0       0.0     645.994850        4.030049   \n",
       "min          0.0       0.0       1.0      31.000000        0.000000   \n",
       "25%          0.0       0.0       1.0     404.000000        3.000000   \n",
       "50%          0.0       0.0       1.0     731.000000        7.000000   \n",
       "75%          0.0       0.0       1.0    1139.000000        9.000000   \n",
       "max          0.0       0.0       1.0    4983.000000       11.000000   \n",
       "\n",
       "         Tail_Number    ArrTime_Blk  \n",
       "count  195398.000000  195398.000000  \n",
       "mean     2268.751277      10.153006  \n",
       "std      1279.525163       4.843658  \n",
       "min         0.000000       0.000000  \n",
       "25%      1189.000000       6.000000  \n",
       "50%      2293.000000      11.000000  \n",
       "75%      3405.000000      14.000000  \n",
       "max      4359.000000      18.000000  \n",
       "\n",
       "[8 rows x 22 columns]"
      ]
     },
     "execution_count": 36,
     "metadata": {},
     "output_type": "execute_result"
    }
   ],
   "source": [
    "print('Dimension reduced to:')\n",
    "print(len(rfDataPCA.columns))\n",
    "rfDataPCA.describe()"
   ]
  },
  {
   "cell_type": "markdown",
   "metadata": {},
   "source": [
    "### Dimension reduction with PCA"
   ]
  },
  {
   "cell_type": "markdown",
   "metadata": {},
   "source": [
    "PCA is done on three variants of the dataset to identify which one needs to be used for modeling:\n",
    "- PCA 1: Dataset with Multi-Collinear variables: Highly collinear variables have amplified contribution in PCA\n",
    "- PCA 2: Dataset with Redundant variables removed (i.e. repeated ID, dep time, arr time etc.)\n",
    "- PCA 3: Dataset without any Non-Collinear variables\n",
    "\n",
    "This was a last minute approach to demonstrate that my initial hypothesis was wrong. My initial thought was that PCA would be better with non-collinear variables and this would give better model performance.\n",
    "\n",
    "However, I saw better model performance (> 10% for accuracy and recall) with PCs derived from multi-collinear dataset. This was because the first two components could almost fully explain the variance in target variable. But in the second and third cases,around 8PCs were needed to fully explain the variance while the scree plot was giving an intuition of choosing 3 or 4 components.\n",
    "\n",
    "Due to limitation in training time, results are demonstrated only for model creation with PCs derived from multi-collinear data."
   ]
  },
  {
   "cell_type": "markdown",
   "metadata": {},
   "source": [
    "###### PCA 1: On HIGHLY MULTI-COLLINEAR data"
   ]
  },
  {
   "cell_type": "code",
   "execution_count": 37,
   "metadata": {
    "collapsed": false,
    "jupyter": {
     "outputs_hidden": false
    }
   },
   "outputs": [
    {
     "name": "stdout",
     "output_type": "stream",
     "text": [
      "[5.10556303e-01 4.89250221e-01 6.90031938e-05 3.51944839e-05\n",
      " 2.58349909e-05 2.29099767e-05 2.05778396e-05 8.19487210e-06]\n"
     ]
    },
    {
     "data": {
      "text/plain": [
       "array([ 51.06,  99.99, 100.  , 100.  , 100.  , 100.  , 100.  , 100.  ])"
      ]
     },
     "execution_count": 37,
     "metadata": {},
     "output_type": "execute_result"
    }
   ],
   "source": [
    "pca = PCA(n_components=8)\n",
    "data_reduced = pca.fit_transform(data)\n",
    "print(pca.explained_variance_ratio_)\n",
    "np.cumsum(np.round(pca.explained_variance_ratio_, decimals=4)*100)"
   ]
  },
  {
   "cell_type": "code",
   "execution_count": 38,
   "metadata": {
    "collapsed": false,
    "jupyter": {
     "outputs_hidden": false
    }
   },
   "outputs": [
    {
     "data": {
      "text/plain": [
       "Text(0, 0.5, 'Explained variance')"
      ]
     },
     "execution_count": 38,
     "metadata": {},
     "output_type": "execute_result"
    },
    {
     "data": {
      "image/png": "[encoded data removed]",
      "text/plain": [
       "<Figure size 2000x500 with 1 Axes>"
      ]
     },
     "metadata": {},
     "output_type": "display_data"
    }
   ],
   "source": [
    "plt.figure(1, figsize=(20, 5))\n",
    "plt.plot(pca.explained_variance_, linewidth=3)\n",
    "plt.axis('tight')\n",
    "plt.title('Scree plot for PCA with COLLINEAR data')\n",
    "plt.xlabel('No. of principal components')\n",
    "plt.ylabel('Explained variance')"
   ]
  },
  {
   "cell_type": "markdown",
   "metadata": {},
   "source": [
    "Note: Elbow is used to choose the number of principal components (Here, #PCs chosen = 2)"
   ]
  },
  {
   "cell_type": "markdown",
   "metadata": {},
   "source": [
    "###### PCA 2: On PARTIALLY MULTI-COLLINEAR data"
   ]
  },
  {
   "cell_type": "code",
   "execution_count": 39,
   "metadata": {
    "collapsed": false,
    "jupyter": {
     "outputs_hidden": false
    }
   },
   "outputs": [
    {
     "name": "stdout",
     "output_type": "stream",
     "text": [
      "[0.28867191 0.21552975 0.20468975 0.14543766 0.07701806 0.03364675\n",
      " 0.01994904 0.01275127]\n"
     ]
    },
    {
     "data": {
      "text/plain": [
       "array([28.87, 50.42, 70.89, 85.43, 93.13, 96.49, 98.48, 99.76])"
      ]
     },
     "execution_count": 39,
     "metadata": {},
     "output_type": "execute_result"
    }
   ],
   "source": [
    "pca = PCA(n_components=8)\n",
    "rfDataOriginal_reduced = pca.fit_transform(rfDataOriginal)\n",
    "print(pca.explained_variance_ratio_)\n",
    "np.cumsum(np.round(pca.explained_variance_ratio_, decimals=4)*100)"
   ]
  },
  {
   "cell_type": "code",
   "execution_count": 40,
   "metadata": {
    "collapsed": false,
    "jupyter": {
     "outputs_hidden": false
    }
   },
   "outputs": [
    {
     "data": {
      "text/plain": [
       "Text(0, 0.5, 'Explained variance')"
      ]
     },
     "execution_count": 40,
     "metadata": {},
     "output_type": "execute_result"
    },
    {
     "data": {
      "image/png": "[encoded data removed]",
      "text/plain": [
       "<Figure size 2000x500 with 1 Axes>"
      ]
     },
     "metadata": {},
     "output_type": "display_data"
    }
   ],
   "source": [
    "plt.figure(1, figsize=(20, 5))\n",
    "plt.plot(pca.explained_variance_, linewidth=3)\n",
    "plt.axis('tight')\n",
    "plt.title('Scree plot for PCA with FEATURE SELECTED data')\n",
    "plt.xlabel('No. of principal components')\n",
    "plt.ylabel('Explained variance')"
   ]
  },
  {
   "cell_type": "markdown",
   "metadata": {},
   "source": [
    "Note: Elbow is used to choose the number of principal components (Here, #PCs chosen = 4)"
   ]
  },
  {
   "cell_type": "markdown",
   "metadata": {},
   "source": [
    "###### PCA 3: On LOW MULTI-COLLINEAR data"
   ]
  },
  {
   "cell_type": "code",
   "execution_count": 41,
   "metadata": {
    "collapsed": false,
    "jupyter": {
     "outputs_hidden": false
    }
   },
   "outputs": [
    {
     "name": "stdout",
     "output_type": "stream",
     "text": [
      "[0.29547713 0.2207447  0.20959372 0.14896352 0.06480816 0.03346826\n",
      " 0.01308335 0.01252685]\n"
     ]
    },
    {
     "data": {
      "text/plain": [
       "array([29.55, 51.62, 72.58, 87.48, 93.96, 97.31, 98.62, 99.87])"
      ]
     },
     "execution_count": 41,
     "metadata": {},
     "output_type": "execute_result"
    }
   ],
   "source": [
    "pca = PCA(n_components=8)\n",
    "rfDataPCA_reduced = pca.fit_transform(rfDataPCA)\n",
    "print(pca.explained_variance_ratio_)\n",
    "np.cumsum(np.round(pca.explained_variance_ratio_, decimals=4)*100)"
   ]
  },
  {
   "cell_type": "code",
   "execution_count": 42,
   "metadata": {
    "collapsed": false,
    "jupyter": {
     "outputs_hidden": false
    }
   },
   "outputs": [
    {
     "data": {
      "text/plain": [
       "Text(0, 0.5, 'Explained variance')"
      ]
     },
     "execution_count": 42,
     "metadata": {},
     "output_type": "execute_result"
    },
    {
     "data": {
      "image/png": "[encoded data removed]",
      "text/plain": [
       "<Figure size 2000x500 with 1 Axes>"
      ]
     },
     "metadata": {},
     "output_type": "display_data"
    }
   ],
   "source": [
    "plt.figure(1, figsize=(20, 5))\n",
    "plt.plot(pca.explained_variance_, linewidth=3)\n",
    "plt.axis('tight')\n",
    "plt.title('Scree plot for PCA with FEATURE RE-ENGINEERED data')\n",
    "plt.xlabel('No. of principal components')\n",
    "plt.ylabel('Explained variance')"
   ]
  },
  {
   "cell_type": "markdown",
   "metadata": {},
   "source": [
    "Note: Elbow is used to choose the number of principal components (Here, #PCs chosen = 4)"
   ]
  },
  {
   "cell_type": "code",
   "execution_count": 43,
   "metadata": {
    "collapsed": false,
    "jupyter": {
     "outputs_hidden": false
    }
   },
   "outputs": [
    {
     "name": "stdout",
     "output_type": "stream",
     "text": [
      "Dimension reduced to:\n",
      "47\n",
      "[0.5105563  0.48925022]\n",
      "Cumulative explained variance:\n"
     ]
    },
    {
     "data": {
      "text/plain": [
       "array([51.06, 99.99])"
      ]
     },
     "execution_count": 43,
     "metadata": {},
     "output_type": "execute_result"
    }
   ],
   "source": [
    "Delay_YesNo = data['ArrDel15']\n",
    "data.drop(['ArrDel15'], axis=1, inplace=True)#Removing target variable\n",
    "print('Dimension reduced to:')\n",
    "print(len(data.columns))\n",
    "data.describe()\n",
    "pca = PCA(n_components=2)\n",
    "data_reduced = pca.fit_transform(data)\n",
    "print(pca.explained_variance_ratio_)\n",
    "print('Cumulative explained variance:')\n",
    "np.cumsum(np.round(pca.explained_variance_ratio_, decimals=4)*100)"
   ]
  },
  {
   "cell_type": "markdown",
   "metadata": {},
   "source": [
    "### Model building with dimension reduced data"
   ]
  },
  {
   "cell_type": "markdown",
   "metadata": {},
   "source": [
    "###### Train/test split\n",
    "Train:Test split = 80:20"
   ]
  },
  {
   "cell_type": "code",
   "execution_count": 44,
   "metadata": {
    "collapsed": true,
    "jupyter": {
     "outputs_hidden": true
    }
   },
   "outputs": [],
   "source": [
    "x_train, x_test, y_train, y_test = train_test_split(data, Delay_YesNo, test_size=0.2, random_state=42)"
   ]
  },
  {
   "cell_type": "markdown",
   "metadata": {},
   "source": [
    "###### Grid search\n",
    "Grid search is not performed for all the desired parameter combinations and values due to computational time"
   ]
  },
  {
   "cell_type": "code",
   "execution_count": 45,
   "metadata": {
    "collapsed": false,
    "jupyter": {
     "outputs_hidden": false
    }
   },
   "outputs": [
    {
     "name": "stdout",
     "output_type": "stream",
     "text": [
      "Random forest Grid Search with dimension reduced data took [ 0:03:45.056775 ] seconds.\n"
     ]
    }
   ],
   "source": [
    "startTimeGS = datetime.now()\n",
    "from sklearn.model_selection import GridSearchCV\n",
    "from sklearn.ensemble import RandomForestClassifier\n",
    "\n",
    "rf = RandomForestClassifier()\n",
    "param_grid = {\n",
    "    'n_estimators': [10, 25],\n",
    "    # 'min_samples_split': [2, 4],\n",
    "    # 'min_samples_leaf': [2, 4],\n",
    "    # 'max_features': ['sqrt', 'log2'],\n",
    "    \"criterion\": [\"gini\", \"entropy\"]\n",
    "}\n",
    "\n",
    "grid_rf = GridSearchCV(rf, param_grid, cv=10)\n",
    "grid_rf.fit(x_train, y_train)\n",
    "bestModel = grid_rf.best_estimator_\n",
    "bestParameters = grid_rf.best_params_\n",
    "gridScores = grid_rf.cv_results_  # Use cv_results_ instead of grid_scores_\n",
    "print('Random forest Grid Search with dimension reduced data took [', datetime.now() - startTimeGS, '] seconds.')"
   ]
  },
  {
   "cell_type": "code",
   "execution_count": 46,
   "metadata": {
    "collapsed": false,
    "jupyter": {
     "outputs_hidden": false
    }
   },
   "outputs": [
    {
     "name": "stdout",
     "output_type": "stream",
     "text": [
      "RandomForestClassifier(criterion='entropy', n_estimators=25)\n",
      "{'criterion': 'entropy', 'n_estimators': 25}\n"
     ]
    },
    {
     "data": {
      "text/plain": [
       "{'mean_fit_time': array([2.97619259, 7.37505329, 3.19314654, 7.87994807]),\n",
       " 'std_fit_time': array([0.03140003, 0.05604815, 0.04539003, 0.04148956]),\n",
       " 'mean_score_time': array([0.02798579, 0.06561718, 0.02748368, 0.06310656]),\n",
       " 'std_score_time': array([0.00051677, 0.00072941, 0.00051713, 0.00061136]),\n",
       " 'param_criterion': masked_array(data=['gini', 'gini', 'entropy', 'entropy'],\n",
       "              mask=[False, False, False, False],\n",
       "        fill_value='?',\n",
       "             dtype=object),\n",
       " 'param_n_estimators': masked_array(data=[10, 25, 10, 25],\n",
       "              mask=[False, False, False, False],\n",
       "        fill_value='?',\n",
       "             dtype=object),\n",
       " 'params': [{'criterion': 'gini', 'n_estimators': 10},\n",
       "  {'criterion': 'gini', 'n_estimators': 25},\n",
       "  {'criterion': 'entropy', 'n_estimators': 10},\n",
       "  {'criterion': 'entropy', 'n_estimators': 25}],\n",
       " 'split0_test_score': array([0.9051305 , 0.92067554, 0.91005629, 0.93007932]),\n",
       " 'split1_test_score': array([0.90359519, 0.93155067, 0.90839304, 0.92617707]),\n",
       " 'split2_test_score': array([0.90864893, 0.9279043 , 0.91319089, 0.93212641]),\n",
       " 'split3_test_score': array([0.91050409, 0.92828813, 0.91344678, 0.935261  ]),\n",
       " 'split4_test_score': array([0.91530194, 0.92784033, 0.91095189, 0.9339176 ]),\n",
       " 'split5_test_score': array([0.91299898, 0.93206244, 0.90500256, 0.9366044 ]),\n",
       " 'split6_test_score': array([0.90506653, 0.93314995, 0.92131525, 0.93187052]),\n",
       " 'split7_test_score': array([0.91479017, 0.93238229, 0.91152764, 0.92931167]),\n",
       " 'split8_test_score': array([0.91088222, 0.92764378, 0.90685177, 0.93346555]),\n",
       " 'split9_test_score': array([0.90985861, 0.93097051, 0.90992259, 0.92521272]),\n",
       " 'mean_test_score': array([0.90967772, 0.92924679, 0.91106587, 0.93140263]),\n",
       " 'std_test_score': array([0.00388538, 0.00349297, 0.00423619, 0.00353573]),\n",
       " 'rank_test_score': array([4, 2, 3, 1], dtype=int32)}"
      ]
     },
     "execution_count": 46,
     "metadata": {},
     "output_type": "execute_result"
    }
   ],
   "source": [
    "print(bestModel)\n",
    "print(bestParameters)\n",
    "gridScores"
   ]
  },
  {
   "cell_type": "markdown",
   "metadata": {},
   "source": [
    "###### Model selection\n",
    "- Best model and parameters from above are used to train the final model on entire training set\n",
    "- 10- fold Cross validation is performed to find the overall error"
   ]
  },
  {
   "cell_type": "code",
   "execution_count": 47,
   "metadata": {
    "collapsed": false,
    "jupyter": {
     "outputs_hidden": false
    }
   },
   "outputs": [
    {
     "name": "stdout",
     "output_type": "stream",
     "text": [
      "Mean cross-validation score is: 0.9289205293171516\n",
      "Random forest training and testing with PCs took [ 0:01:28.337069 ] seconds.\n"
     ]
    }
   ],
   "source": [
    "startTimeRF = datetime.now()\n",
    "rf = RandomForestClassifier(n_estimators=bestParameters.get('n_estimators'),\n",
    "#                            min_samples_split=bestParameters.get('min_samples_split'),\n",
    "#                            min_samples_leaf=bestParameters.get('min_samples_leaf'),\n",
    "#                            max_features=bestParameters.get('max_features'),\n",
    "                            criterion=bestParameters.get('criterion'))\n",
    "\n",
    "cv = KFold(n_splits=10, shuffle=True, random_state=2)\n",
    "cvScores = cross_val_score(rf, x_train, y_train, cv=cv)\n",
    "print('Mean cross-validation score is: ' + str(np.mean(cvScores)))\n",
    "rf.fit(x_train, y_train)\n",
    "print('Random forest training and testing with PCs took [', datetime.now() - startTimeRF, '] seconds.')\n"
   ]
  },
  {
   "cell_type": "markdown",
   "metadata": {},
   "source": [
    "###### Performance evaluation\n",
    "- Prediction is done on the hold out test set to evaluate performance\n",
    "- Confusion matrix, Accuracy and Recall are computed\n",
    "- ROC curve is also plotted to pictorically depict 'Area under curve (AUC)' as 'Accuracy' "
   ]
  },
  {
   "cell_type": "code",
   "execution_count": 48,
   "metadata": {
    "collapsed": false,
    "jupyter": {
     "outputs_hidden": false
    }
   },
   "outputs": [
    {
     "name": "stdout",
     "output_type": "stream",
     "text": [
      "Accuracy: 93.23%\n",
      "Recall: 91.54%\n",
      "Confusion matrix:\n",
      "[[18492   989]\n",
      " [ 1658 17941]]\n",
      "Area under the ROC curve: 0.06768178363436003\n"
     ]
    },
    {
     "data": {
      "image/png": "[encoded data removed]",
      "text/plain": [
       "<Figure size 2000x500 with 3 Axes>"
      ]
     },
     "metadata": {},
     "output_type": "display_data"
    }
   ],
   "source": [
    "y_rf_pred = rf.predict(x_test)\n",
    "\n",
    "labels = [0, 1]\n",
    "cm = confusion_matrix(y_test, y_rf_pred, labels=labels)\n",
    "\n",
    "print('Accuracy: ' + str(np.round(100*float(cm[0][0]+cm[1][1])/float((cm[0][0]+cm[1][1] + cm[1][0] + cm[0][1])),2))+'%')\n",
    "print('Recall: ' + str(np.round(100*float((cm[1][1]))/float((cm[1][0]+cm[1][1])),2))+'%')\n",
    "print('Confusion matrix:')\n",
    "print(cm)\n",
    "\n",
    "fpr, tpr, _ = roc_curve(y_test, y_rf_pred)\n",
    "auc = np.trapz(fpr,tpr)\n",
    "print('Area under the ROC curve: ' + str(auc))\n",
    "\n",
    "fig = plt.figure(figsize=(20, 5))\n",
    "\n",
    "plt.subplot2grid((2, 2), (1, 0), colspan=1)\n",
    "#plt.subplot(1,2,1)\n",
    "plt.plot(fpr,tpr,color='green')\n",
    "plt.xlabel('False positive rate (FPR)')\n",
    "plt.ylabel('True positive rate (TPR)')\n",
    "plt.title('Receiver operating characteristic (ROC)')\n",
    "\n",
    "ax1 = plt.subplot2grid((2, 2), (1, 1))\n",
    "#ax = fig.add_subplot(122)\n",
    "cax = ax1.matshow(cm)\n",
    "plt.title('Confusion matrix for Random Forest classifier with PCs')\n",
    "fig.colorbar(cax)\n",
    "ax1.set_xticklabels([''] + labels)\n",
    "ax1.set_yticklabels([''] + labels)\n",
    "plt.xlabel('Predicted')\n",
    "plt.ylabel('True')\n",
    "plt.show()"
   ]
  },
  {
   "cell_type": "markdown",
   "metadata": {},
   "source": [
    "### Inferences:\n",
    "- Random forest on PCs always demonstrated slightly better performance, but this was marginal (1-2%).\n",
    "- It is inferred that dimension reduction with PCA is not really required for Random forest as it is already a modeling method that inherently handles variance in data through bagging, random splitting and voting.\n",
    "- It may however be a delightful approach if one wants to reduce dimension by avoiding the hassle of removing collinear variables. A PCA can capture all the variation easily and be fed straight to random forest thus enabling quicker modeling. \n",
    "    "
   ]
  },
  {
   "cell_type": "markdown",
   "metadata": {},
   "source": [
    "### Future Work:\n",
    "- As performance was observed to be improving with more data, it is strongly suggested to train on more data which is easily available from DOT website.\n",
    "- This will improve Recall and give better prediction for 'Delayed' flights which is the problem in hand.\n",
    "- It is also recommended that an initial coarser search followed by finer grid search can help in identifying optimal model parameters that can enable prediction with higher performance.\n",
    "- Sampling of data to avoid class imbalance resulted in discarding a lot of data. I am not much concerned about this due to availability of huge amounts of data in DOT website. But, this may need to be addressed elsewhere by exploring imputation. In this problem, regression imputation is suggested as mean and zero imputation did not provide good results.\n",
    "- Feature transformation could have been explored by deriving new features from existing data. Examples can be Airport delay, Airline delay etc from taxi duration, wheels on, wheels off etc. This would have provided much more intuitive analysis results.\n",
    "- Lastly and more importantly, grid search with more trees in Random Forest is essential and is highly likely to give improved results."
   ]
  },
  {
   "cell_type": "markdown",
   "metadata": {},
   "source": [
    "### References:\n",
    "- Kaggle.com\n",
    "- stats.stackexchange.com\n",
    "- fivethirtyeight.com"
   ]
  },
  {
   "cell_type": "code",
   "execution_count": 49,
   "metadata": {
    "collapsed": false,
    "jupyter": {
     "outputs_hidden": false
    }
   },
   "outputs": [
    {
     "name": "stdout",
     "output_type": "stream",
     "text": [
      "Overall execution took [ 0:09:55.594608 ] seconds.\n"
     ]
    }
   ],
   "source": [
    "print('Overall execution took [', datetime.now() - startTime, '] seconds.')"
   ]
  },
  {
   "cell_type": "code",
   "execution_count": 50,
   "metadata": {},
   "outputs": [],
   "source": [
    "import os\n",
    "import pickle\n",
    "\n",
    "# Specify the directory to save the pickle file\n",
    "output_directory = '/Users/praveen/Desktop/Airline-delay-prediction-in-Python/'\n",
    "\n",
    "# Create the directory if it does not exist\n",
    "os.makedirs(output_directory, exist_ok=True)\n",
    "\n",
    "# Save the model to a pickle file\n",
    "with open(os.path.join(output_directory, 'model.pkl'), 'wb') as file:\n",
    "   pickle.dump(rf, file)\n",
    "\n",
    "# Confirm that the file is saved\n",
    "print(\"Model saved to:\", os.path.join(output_directory, 'model.pkl'))\n"
   ]
  },
  {
   "cell_type": "code",
   "execution_count": 51,
   "metadata": {},
   "outputs": [
    {
     "name": "stdout",
     "output_type": "stream",
     "text": [
      "Requirement already satisfied: tensorflow in /Users/praveen/Desktop/Airline-delay-prediction-in-Python/env/lib/python3.11/site-packages (2.15.0)\n",
      "Requirement already satisfied: tensorflow-macos==2.15.0 in /Users/praveen/Desktop/Airline-delay-prediction-in-Python/env/lib/python3.11/site-packages (from tensorflow) (2.15.0)\n",
      "Requirement already satisfied: absl-py>=1.0.0 in /Users/praveen/Desktop/Airline-delay-prediction-in-Python/env/lib/python3.11/site-packages (from tensorflow-macos==2.15.0->tensorflow) (2.0.0)\n",
      "Requirement already satisfied: astunparse>=1.6.0 in /Users/praveen/Desktop/Airline-delay-prediction-in-Python/env/lib/python3.11/site-packages (from tensorflow-macos==2.15.0->tensorflow) (1.6.3)\n",
      "Requirement already satisfied: flatbuffers>=23.5.26 in /Users/praveen/Desktop/Airline-delay-prediction-in-Python/env/lib/python3.11/site-packages (from tensorflow-macos==2.15.0->tensorflow) (23.5.26)\n",
      "Requirement already satisfied: gast!=0.5.0,!=0.5.1,!=0.5.2,>=0.2.1 in /Users/praveen/Desktop/Airline-delay-prediction-in-Python/env/lib/python3.11/site-packages (from tensorflow-macos==2.15.0->tensorflow) (0.5.4)\n",
      "Requirement already satisfied: google-pasta>=0.1.1 in /Users/praveen/Desktop/Airline-delay-prediction-in-Python/env/lib/python3.11/site-packages (from tensorflow-macos==2.15.0->tensorflow) (0.2.0)\n",
      "Requirement already satisfied: h5py>=2.9.0 in /Users/praveen/Desktop/Airline-delay-prediction-in-Python/env/lib/python3.11/site-packages (from tensorflow-macos==2.15.0->tensorflow) (3.10.0)\n",
      "Requirement already satisfied: libclang>=13.0.0 in /Users/praveen/Desktop/Airline-delay-prediction-in-Python/env/lib/python3.11/site-packages (from tensorflow-macos==2.15.0->tensorflow) (16.0.6)\n",
      "Requirement already satisfied: ml-dtypes~=0.2.0 in /Users/praveen/Desktop/Airline-delay-prediction-in-Python/env/lib/python3.11/site-packages (from tensorflow-macos==2.15.0->tensorflow) (0.2.0)\n",
      "Requirement already satisfied: numpy<2.0.0,>=1.23.5 in /Users/praveen/Desktop/Airline-delay-prediction-in-Python/env/lib/python3.11/site-packages (from tensorflow-macos==2.15.0->tensorflow) (1.26.2)\n",
      "Requirement already satisfied: opt-einsum>=2.3.2 in /Users/praveen/Desktop/Airline-delay-prediction-in-Python/env/lib/python3.11/site-packages (from tensorflow-macos==2.15.0->tensorflow) (3.3.0)\n",
      "Requirement already satisfied: packaging in /Users/praveen/Desktop/Airline-delay-prediction-in-Python/env/lib/python3.11/site-packages (from tensorflow-macos==2.15.0->tensorflow) (23.2)\n",
      "Requirement already satisfied: protobuf!=4.21.0,!=4.21.1,!=4.21.2,!=4.21.3,!=4.21.4,!=4.21.5,<5.0.0dev,>=3.20.3 in /Users/praveen/Desktop/Airline-delay-prediction-in-Python/env/lib/python3.11/site-packages (from tensorflow-macos==2.15.0->tensorflow) (4.23.4)\n",
      "Requirement already satisfied: setuptools in /Users/praveen/Desktop/Airline-delay-prediction-in-Python/env/lib/python3.11/site-packages (from tensorflow-macos==2.15.0->tensorflow) (69.0.2)\n",
      "Requirement already satisfied: six>=1.12.0 in /Users/praveen/Desktop/Airline-delay-prediction-in-Python/env/lib/python3.11/site-packages (from tensorflow-macos==2.15.0->tensorflow) (1.16.0)\n",
      "Requirement already satisfied: termcolor>=1.1.0 in /Users/praveen/Desktop/Airline-delay-prediction-in-Python/env/lib/python3.11/site-packages (from tensorflow-macos==2.15.0->tensorflow) (2.4.0)\n",
      "Requirement already satisfied: typing-extensions>=3.6.6 in /Users/praveen/Desktop/Airline-delay-prediction-in-Python/env/lib/python3.11/site-packages (from tensorflow-macos==2.15.0->tensorflow) (4.9.0)\n",
      "Requirement already satisfied: wrapt<1.15,>=1.11.0 in /Users/praveen/Desktop/Airline-delay-prediction-in-Python/env/lib/python3.11/site-packages (from tensorflow-macos==2.15.0->tensorflow) (1.14.1)\n",
      "Requirement already satisfied: tensorflow-io-gcs-filesystem>=0.23.1 in /Users/praveen/Desktop/Airline-delay-prediction-in-Python/env/lib/python3.11/site-packages (from tensorflow-macos==2.15.0->tensorflow) (0.34.0)\n",
      "Requirement already satisfied: grpcio<2.0,>=1.24.3 in /Users/praveen/Desktop/Airline-delay-prediction-in-Python/env/lib/python3.11/site-packages (from tensorflow-macos==2.15.0->tensorflow) (1.60.0)\n",
      "Requirement already satisfied: tensorboard<2.16,>=2.15 in /Users/praveen/Desktop/Airline-delay-prediction-in-Python/env/lib/python3.11/site-packages (from tensorflow-macos==2.15.0->tensorflow) (2.15.1)\n",
      "Requirement already satisfied: tensorflow-estimator<2.16,>=2.15.0 in /Users/praveen/Desktop/Airline-delay-prediction-in-Python/env/lib/python3.11/site-packages (from tensorflow-macos==2.15.0->tensorflow) (2.15.0)\n",
      "Requirement already satisfied: keras<2.16,>=2.15.0 in /Users/praveen/Desktop/Airline-delay-prediction-in-Python/env/lib/python3.11/site-packages (from tensorflow-macos==2.15.0->tensorflow) (2.15.0)\n",
      "Requirement already satisfied: wheel<1.0,>=0.23.0 in /Users/praveen/Desktop/Airline-delay-prediction-in-Python/env/lib/python3.11/site-packages (from astunparse>=1.6.0->tensorflow-macos==2.15.0->tensorflow) (0.42.0)\n",
      "Requirement already satisfied: google-auth<3,>=1.6.3 in /Users/praveen/Desktop/Airline-delay-prediction-in-Python/env/lib/python3.11/site-packages (from tensorboard<2.16,>=2.15->tensorflow-macos==2.15.0->tensorflow) (2.26.0)\n",
      "Requirement already satisfied: google-auth-oauthlib<2,>=0.5 in /Users/praveen/Desktop/Airline-delay-prediction-in-Python/env/lib/python3.11/site-packages (from tensorboard<2.16,>=2.15->tensorflow-macos==2.15.0->tensorflow) (1.2.0)\n",
      "Requirement already satisfied: markdown>=2.6.8 in /Users/praveen/Desktop/Airline-delay-prediction-in-Python/env/lib/python3.11/site-packages (from tensorboard<2.16,>=2.15->tensorflow-macos==2.15.0->tensorflow) (3.5.1)\n",
      "Requirement already satisfied: requests<3,>=2.21.0 in /Users/praveen/Desktop/Airline-delay-prediction-in-Python/env/lib/python3.11/site-packages (from tensorboard<2.16,>=2.15->tensorflow-macos==2.15.0->tensorflow) (2.31.0)\n",
      "Requirement already satisfied: tensorboard-data-server<0.8.0,>=0.7.0 in /Users/praveen/Desktop/Airline-delay-prediction-in-Python/env/lib/python3.11/site-packages (from tensorboard<2.16,>=2.15->tensorflow-macos==2.15.0->tensorflow) (0.7.2)\n",
      "Requirement already satisfied: werkzeug>=1.0.1 in /Users/praveen/Desktop/Airline-delay-prediction-in-Python/env/lib/python3.11/site-packages (from tensorboard<2.16,>=2.15->tensorflow-macos==2.15.0->tensorflow) (3.0.1)\n",
      "Requirement already satisfied: cachetools<6.0,>=2.0.0 in /Users/praveen/Desktop/Airline-delay-prediction-in-Python/env/lib/python3.11/site-packages (from google-auth<3,>=1.6.3->tensorboard<2.16,>=2.15->tensorflow-macos==2.15.0->tensorflow) (5.3.2)\n",
      "Requirement already satisfied: pyasn1-modules>=0.2.1 in /Users/praveen/Desktop/Airline-delay-prediction-in-Python/env/lib/python3.11/site-packages (from google-auth<3,>=1.6.3->tensorboard<2.16,>=2.15->tensorflow-macos==2.15.0->tensorflow) (0.3.0)\n",
      "Requirement already satisfied: rsa<5,>=3.1.4 in /Users/praveen/Desktop/Airline-delay-prediction-in-Python/env/lib/python3.11/site-packages (from google-auth<3,>=1.6.3->tensorboard<2.16,>=2.15->tensorflow-macos==2.15.0->tensorflow) (4.9)\n",
      "Requirement already satisfied: requests-oauthlib>=0.7.0 in /Users/praveen/Desktop/Airline-delay-prediction-in-Python/env/lib/python3.11/site-packages (from google-auth-oauthlib<2,>=0.5->tensorboard<2.16,>=2.15->tensorflow-macos==2.15.0->tensorflow) (1.3.1)\n",
      "Requirement already satisfied: charset-normalizer<4,>=2 in /Users/praveen/Desktop/Airline-delay-prediction-in-Python/env/lib/python3.11/site-packages (from requests<3,>=2.21.0->tensorboard<2.16,>=2.15->tensorflow-macos==2.15.0->tensorflow) (3.3.2)\n",
      "Requirement already satisfied: idna<4,>=2.5 in /Users/praveen/Desktop/Airline-delay-prediction-in-Python/env/lib/python3.11/site-packages (from requests<3,>=2.21.0->tensorboard<2.16,>=2.15->tensorflow-macos==2.15.0->tensorflow) (3.6)\n",
      "Requirement already satisfied: urllib3<3,>=1.21.1 in /Users/praveen/Desktop/Airline-delay-prediction-in-Python/env/lib/python3.11/site-packages (from requests<3,>=2.21.0->tensorboard<2.16,>=2.15->tensorflow-macos==2.15.0->tensorflow) (2.1.0)\n",
      "Requirement already satisfied: certifi>=2017.4.17 in /Users/praveen/Desktop/Airline-delay-prediction-in-Python/env/lib/python3.11/site-packages (from requests<3,>=2.21.0->tensorboard<2.16,>=2.15->tensorflow-macos==2.15.0->tensorflow) (2023.11.17)\n",
      "Requirement already satisfied: MarkupSafe>=2.1.1 in /Users/praveen/Desktop/Airline-delay-prediction-in-Python/env/lib/python3.11/site-packages (from werkzeug>=1.0.1->tensorboard<2.16,>=2.15->tensorflow-macos==2.15.0->tensorflow) (2.1.3)\n",
      "Requirement already satisfied: pyasn1<0.6.0,>=0.4.6 in /Users/praveen/Desktop/Airline-delay-prediction-in-Python/env/lib/python3.11/site-packages (from pyasn1-modules>=0.2.1->google-auth<3,>=1.6.3->tensorboard<2.16,>=2.15->tensorflow-macos==2.15.0->tensorflow) (0.5.1)\n",
      "Requirement already satisfied: oauthlib>=3.0.0 in /Users/praveen/Desktop/Airline-delay-prediction-in-Python/env/lib/python3.11/site-packages (from requests-oauthlib>=0.7.0->google-auth-oauthlib<2,>=0.5->tensorboard<2.16,>=2.15->tensorflow-macos==2.15.0->tensorflow) (3.2.2)\n",
      "Note: you may need to restart the kernel to use updated packages.\n"
     ]
    }
   ],
   "source": [
    "%pip install tensorflow"
   ]
  },
  {
   "cell_type": "code",
   "execution_count": 52,
   "metadata": {},
   "outputs": [
    {
     "name": "stdout",
     "output_type": "stream",
     "text": [
      "Requirement already satisfied: keras in /Users/praveen/Desktop/Airline-delay-prediction-in-Python/env/lib/python3.11/site-packages (2.15.0)\n",
      "Note: you may need to restart the kernel to use updated packages.\n"
     ]
    }
   ],
   "source": [
    "%pip install keras"
   ]
  },
  {
   "cell_type": "code",
   "execution_count": 53,
   "metadata": {},
   "outputs": [
    {
     "name": "stdout",
     "output_type": "stream",
     "text": [
      "Index(['Year', 'Quarter', 'Month', 'DayofMonth', 'DayOfWeek', 'FlightDate',\n",
      "       'AirlineID', 'FlightNum', 'OriginAirportID', 'OriginAirportSeqID',\n",
      "       'OriginCityMarketID', 'OriginStateFips', 'OriginWac', 'DestAirportID',\n",
      "       'DestAirportSeqID', 'DestCityMarketID', 'DestStateFips', 'DestWac',\n",
      "       'CRSDepTime', 'DepTime', 'TaxiOut', 'WheelsOff', 'WheelsOn', 'TaxiIn',\n",
      "       'CRSArrTime', 'ArrTime', 'Cancelled', 'Diverted', 'CRSElapsedTime',\n",
      "       'ActualElapsedTime', 'AirTime', 'Flights', 'Distance', 'DistanceGroup',\n",
      "       'Unique_Carrier', 'Carrier_Name', 'Tail_Number', 'Origin_Point',\n",
      "       'Origin_CityName', 'Origin_State', 'OriginState_Name', 'Destination',\n",
      "       'Dest_CityName', 'Dest_State', 'Dest_StateName', 'DepTime_Blk',\n",
      "       'ArrTime_Blk'],\n",
      "      dtype='object')\n"
     ]
    }
   ],
   "source": [
    "print(data.columns)"
   ]
  }
 ],
 "metadata": {
  "anaconda-cloud": {},
  "kernelspec": {
   "display_name": "Python 3 (ipykernel)",
   "language": "python",
   "name": "python3"
  },
  "language_info": {
   "codemirror_mode": {
    "name": "ipython",
    "version": 3
   },
   "file_extension": ".py",
   "mimetype": "text/x-python",
   "name": "python",
   "nbconvert_exporter": "python",
   "pygments_lexer": "ipython3",
   "version": "3.11.7"
  }
 },
 "nbformat": 4,
 "nbformat_minor": 4
}
